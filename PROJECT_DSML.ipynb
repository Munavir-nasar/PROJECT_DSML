{
 "cells": [
  {
   "cell_type": "code",
   "execution_count": 1,
   "id": "f81b3232-3dfd-4707-9f45-9211ac7439d9",
   "metadata": {},
   "outputs": [],
   "source": [
    "import warnings\n",
    "import sys\n",
    "if not sys.warnoptions:\n",
    "    warnings.simplefilter(\"ignore\")"
   ]
  },
  {
   "cell_type": "code",
   "execution_count": 4,
   "id": "638bf9fe-71bb-4f09-9e98-e712abeb7b59",
   "metadata": {},
   "outputs": [],
   "source": [
    "import pandas as pd"
   ]
  },
  {
   "cell_type": "code",
   "execution_count": 8,
   "id": "75bdfecb-261a-4412-813d-310ea1c380db",
   "metadata": {},
   "outputs": [],
   "source": [
    "df= pd.read_csv('shooting data.csv')"
   ]
  },
  {
   "cell_type": "code",
   "execution_count": 9,
   "id": "217ee771-511b-44d8-b703-e6bddc978726",
   "metadata": {},
   "outputs": [
    {
     "name": "stdout",
     "output_type": "stream",
     "text": [
      "shape: (28562, 21)\n"
     ]
    }
   ],
   "source": [
    "print(\"shape:\",df.shape)"
   ]
  },
  {
   "cell_type": "code",
   "execution_count": 10,
   "id": "748f7d54-c431-4b7f-a4ff-28f39c61363c",
   "metadata": {},
   "outputs": [
    {
     "name": "stdout",
     "output_type": "stream",
     "text": [
      "<class 'pandas.core.frame.DataFrame'>\n",
      "RangeIndex: 28562 entries, 0 to 28561\n",
      "Data columns (total 21 columns):\n",
      " #   Column                   Non-Null Count  Dtype  \n",
      "---  ------                   --------------  -----  \n",
      " 0   INCIDENT_KEY             28562 non-null  int64  \n",
      " 1   OCCUR_DATE               28562 non-null  object \n",
      " 2   OCCUR_TIME               28562 non-null  object \n",
      " 3   BORO                     28562 non-null  object \n",
      " 4   LOC_OF_OCCUR_DESC        2966 non-null   object \n",
      " 5   PRECINCT                 28562 non-null  int64  \n",
      " 6   JURISDICTION_CODE        28560 non-null  float64\n",
      " 7   LOC_CLASSFCTN_DESC       2966 non-null   object \n",
      " 8   LOCATION_DESC            13585 non-null  object \n",
      " 9   STATISTICAL_MURDER_FLAG  28562 non-null  bool   \n",
      " 10  PERP_AGE_GROUP           19218 non-null  object \n",
      " 11  PERP_SEX                 19252 non-null  object \n",
      " 12  PERP_RACE                19252 non-null  object \n",
      " 13  VIC_AGE_GROUP            28562 non-null  object \n",
      " 14  VIC_SEX                  28562 non-null  object \n",
      " 15  VIC_RACE                 28562 non-null  object \n",
      " 16  X_COORD_CD               28562 non-null  float64\n",
      " 17  Y_COORD_CD               28562 non-null  float64\n",
      " 18  Latitude                 28503 non-null  float64\n",
      " 19  Longitude                28503 non-null  float64\n",
      " 20  Lon_Lat                  28503 non-null  object \n",
      "dtypes: bool(1), float64(5), int64(2), object(13)\n",
      "memory usage: 4.4+ MB\n"
     ]
    }
   ],
   "source": [
    "df.info()"
   ]
  },
  {
   "cell_type": "code",
   "execution_count": 11,
   "id": "e22d9d21-e0c6-4bfa-873e-4813af3bdc92",
   "metadata": {},
   "outputs": [
    {
     "data": {
      "text/html": [
       "<div>\n",
       "<style scoped>\n",
       "    .dataframe tbody tr th:only-of-type {\n",
       "        vertical-align: middle;\n",
       "    }\n",
       "\n",
       "    .dataframe tbody tr th {\n",
       "        vertical-align: top;\n",
       "    }\n",
       "\n",
       "    .dataframe thead th {\n",
       "        text-align: right;\n",
       "    }\n",
       "</style>\n",
       "<table border=\"1\" class=\"dataframe\">\n",
       "  <thead>\n",
       "    <tr style=\"text-align: right;\">\n",
       "      <th></th>\n",
       "      <th>INCIDENT_KEY</th>\n",
       "      <th>PRECINCT</th>\n",
       "      <th>JURISDICTION_CODE</th>\n",
       "      <th>X_COORD_CD</th>\n",
       "      <th>Y_COORD_CD</th>\n",
       "      <th>Latitude</th>\n",
       "      <th>Longitude</th>\n",
       "    </tr>\n",
       "  </thead>\n",
       "  <tbody>\n",
       "    <tr>\n",
       "      <th>count</th>\n",
       "      <td>2.856200e+04</td>\n",
       "      <td>28562.000000</td>\n",
       "      <td>28560.000000</td>\n",
       "      <td>2.856200e+04</td>\n",
       "      <td>28562.000000</td>\n",
       "      <td>28503.000000</td>\n",
       "      <td>28503.000000</td>\n",
       "    </tr>\n",
       "    <tr>\n",
       "      <th>mean</th>\n",
       "      <td>1.274058e+08</td>\n",
       "      <td>65.496009</td>\n",
       "      <td>0.321884</td>\n",
       "      <td>1.009424e+06</td>\n",
       "      <td>208380.075764</td>\n",
       "      <td>40.738570</td>\n",
       "      <td>-73.909099</td>\n",
       "    </tr>\n",
       "    <tr>\n",
       "      <th>std</th>\n",
       "      <td>7.804340e+07</td>\n",
       "      <td>27.342643</td>\n",
       "      <td>0.733035</td>\n",
       "      <td>1.830111e+04</td>\n",
       "      <td>31917.509527</td>\n",
       "      <td>0.087611</td>\n",
       "      <td>0.065967</td>\n",
       "    </tr>\n",
       "    <tr>\n",
       "      <th>min</th>\n",
       "      <td>9.953245e+06</td>\n",
       "      <td>1.000000</td>\n",
       "      <td>0.000000</td>\n",
       "      <td>9.149281e+05</td>\n",
       "      <td>125756.718800</td>\n",
       "      <td>40.511586</td>\n",
       "      <td>-74.249303</td>\n",
       "    </tr>\n",
       "    <tr>\n",
       "      <th>25%</th>\n",
       "      <td>6.543991e+07</td>\n",
       "      <td>44.000000</td>\n",
       "      <td>0.000000</td>\n",
       "      <td>1.000068e+06</td>\n",
       "      <td>182912.000000</td>\n",
       "      <td>40.668648</td>\n",
       "      <td>-73.942917</td>\n",
       "    </tr>\n",
       "    <tr>\n",
       "      <th>50%</th>\n",
       "      <td>9.271125e+07</td>\n",
       "      <td>67.000000</td>\n",
       "      <td>0.000000</td>\n",
       "      <td>1.007772e+06</td>\n",
       "      <td>194901.390650</td>\n",
       "      <td>40.701467</td>\n",
       "      <td>-73.915068</td>\n",
       "    </tr>\n",
       "    <tr>\n",
       "      <th>75%</th>\n",
       "      <td>2.031320e+08</td>\n",
       "      <td>81.000000</td>\n",
       "      <td>0.000000</td>\n",
       "      <td>1.016807e+06</td>\n",
       "      <td>239814.234400</td>\n",
       "      <td>40.824878</td>\n",
       "      <td>-73.882366</td>\n",
       "    </tr>\n",
       "    <tr>\n",
       "      <th>max</th>\n",
       "      <td>2.797581e+08</td>\n",
       "      <td>123.000000</td>\n",
       "      <td>2.000000</td>\n",
       "      <td>1.066815e+06</td>\n",
       "      <td>271127.687500</td>\n",
       "      <td>40.910818</td>\n",
       "      <td>-73.702046</td>\n",
       "    </tr>\n",
       "  </tbody>\n",
       "</table>\n",
       "</div>"
      ],
      "text/plain": [
       "       INCIDENT_KEY      PRECINCT  JURISDICTION_CODE    X_COORD_CD  \\\n",
       "count  2.856200e+04  28562.000000       28560.000000  2.856200e+04   \n",
       "mean   1.274058e+08     65.496009           0.321884  1.009424e+06   \n",
       "std    7.804340e+07     27.342643           0.733035  1.830111e+04   \n",
       "min    9.953245e+06      1.000000           0.000000  9.149281e+05   \n",
       "25%    6.543991e+07     44.000000           0.000000  1.000068e+06   \n",
       "50%    9.271125e+07     67.000000           0.000000  1.007772e+06   \n",
       "75%    2.031320e+08     81.000000           0.000000  1.016807e+06   \n",
       "max    2.797581e+08    123.000000           2.000000  1.066815e+06   \n",
       "\n",
       "          Y_COORD_CD      Latitude     Longitude  \n",
       "count   28562.000000  28503.000000  28503.000000  \n",
       "mean   208380.075764     40.738570    -73.909099  \n",
       "std     31917.509527      0.087611      0.065967  \n",
       "min    125756.718800     40.511586    -74.249303  \n",
       "25%    182912.000000     40.668648    -73.942917  \n",
       "50%    194901.390650     40.701467    -73.915068  \n",
       "75%    239814.234400     40.824878    -73.882366  \n",
       "max    271127.687500     40.910818    -73.702046  "
      ]
     },
     "execution_count": 11,
     "metadata": {},
     "output_type": "execute_result"
    }
   ],
   "source": [
    "df.describe()"
   ]
  },
  {
   "cell_type": "code",
   "execution_count": 12,
   "id": "4bd268c3-62e2-4974-8347-7a8b8161897a",
   "metadata": {},
   "outputs": [
    {
     "data": {
      "text/plain": [
       "INCIDENT_KEY                   0\n",
       "OCCUR_DATE                     0\n",
       "OCCUR_TIME                     0\n",
       "BORO                           0\n",
       "LOC_OF_OCCUR_DESC          25596\n",
       "PRECINCT                       0\n",
       "JURISDICTION_CODE              2\n",
       "LOC_CLASSFCTN_DESC         25596\n",
       "LOCATION_DESC              14977\n",
       "STATISTICAL_MURDER_FLAG        0\n",
       "PERP_AGE_GROUP              9344\n",
       "PERP_SEX                    9310\n",
       "PERP_RACE                   9310\n",
       "VIC_AGE_GROUP                  0\n",
       "VIC_SEX                        0\n",
       "VIC_RACE                       0\n",
       "X_COORD_CD                     0\n",
       "Y_COORD_CD                     0\n",
       "Latitude                      59\n",
       "Longitude                     59\n",
       "Lon_Lat                       59\n",
       "dtype: int64"
      ]
     },
     "execution_count": 12,
     "metadata": {},
     "output_type": "execute_result"
    }
   ],
   "source": [
    "df.isnull().sum()"
   ]
  },
  {
   "cell_type": "code",
   "execution_count": 15,
   "id": "b20763d2-a0b3-4892-9f7a-8f94a30b90cd",
   "metadata": {},
   "outputs": [
    {
     "data": {
      "text/plain": [
       "0"
      ]
     },
     "execution_count": 15,
     "metadata": {},
     "output_type": "execute_result"
    }
   ],
   "source": [
    "df.duplicated().sum()"
   ]
  },
  {
   "cell_type": "code",
   "execution_count": null,
   "id": "4eea21be-f584-4aca-b5eb-f3bf6164c8d5",
   "metadata": {},
   "outputs": [],
   "source": []
  }
 ],
 "metadata": {
  "kernelspec": {
   "display_name": "Python 3 (ipykernel)",
   "language": "python",
   "name": "python3"
  },
  "language_info": {
   "codemirror_mode": {
    "name": "ipython",
    "version": 3
   },
   "file_extension": ".py",
   "mimetype": "text/x-python",
   "name": "python",
   "nbconvert_exporter": "python",
   "pygments_lexer": "ipython3",
   "version": "3.12.7"
  }
 },
 "nbformat": 4,
 "nbformat_minor": 5
}
