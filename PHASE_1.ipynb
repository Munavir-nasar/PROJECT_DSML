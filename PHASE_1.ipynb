{
 "cells": [
  {
   "cell_type": "markdown",
   "id": "54ed3f31-10f2-4fa3-b7ae-89706a75d691",
   "metadata": {},
   "source": [
    "# Train Delay Prediction"
   ]
  },
  {
   "cell_type": "markdown",
   "id": "4dde2254-8475-4a6f-ab6b-8b58b1113d74",
   "metadata": {},
   "source": [
    "### CONTEXT\n"
   ]
  },
  {
   "cell_type": "markdown",
   "id": "fa8e6aca-5d36-4dd2-a73b-4ce4a43cf86a",
   "metadata": {},
   "source": [
    "Train delays are a significant issue in the railway industry, causing inconvenience to passengers and financial losses for railway operators.\n",
    "Delays can occur due to various reasons such as signal failures, technical issues, weather conditions, and staffing shortages.\n",
    "Predicting whether a train journey will be \"On Time\" or \"Delayed\" can help railway operators manage resources more effectively and improve passenger satisfaction.\n",
    "\n",
    "The dataset provided contains historical booking and journey data, including details such as purchase date and time, ticket type, departure and arrival stations, journey status, and reasons for delays.\n",
    "By analyzing this data, we can build a predictive model to classify train journeys as \"On Time\" or \"Delayed.\""
   ]
  },
  {
   "cell_type": "markdown",
   "id": "17212e11-8f63-4a97-836b-8f51414f8e91",
   "metadata": {},
   "source": [
    "### PROBLEM STATEMENT"
   ]
  },
  {
   "cell_type": "markdown",
   "id": "52fc0ae2-4e23-44db-91dc-926561770f80",
   "metadata": {},
   "source": [
    "\n",
    "Using the provided dataset, the goal is to predict whether a train journey will be \"On Time\" or \"Delayed.\" \n"
   ]
  },
  {
   "cell_type": "markdown",
   "id": "9e8376d9-be00-4fa3-ae27-9c0d96ccefa5",
   "metadata": {},
   "source": [
    "### CONTENT"
   ]
  },
  {
   "cell_type": "markdown",
   "id": "5a9795cb-2397-47cb-87a1-9f7cf722c2dc",
   "metadata": {},
   "source": [
    "\n",
    "\n",
    "The dataset includes the following features:\n",
    "\n",
    "Transaction ID: Unique identifier for each transaction.\n",
    "\n",
    "Date of Purchase: The date when the ticket was purchased.\n",
    "\n",
    "Time of Purchase: The time when the ticket was purchased.\n",
    "\n",
    "Purchase Type: The method of purchase (e.g., Online, Station).\n",
    "\n",
    "Payment Method: The payment method used (e.g., Credit Card, Contactless).\n",
    "\n",
    "Railcard: Type of railcard used (e.g., Adult, Disabled).\n",
    "\n",
    "Ticket Class: Class of the ticket (e.g., Standard, First Class).\n",
    "\n",
    "Ticket Type: Type of ticket (e.g., Advance, Off-Peak).\n",
    "\n",
    "Price: The price of the ticket.\n",
    "\n",
    "Departure Station: The station where the journey starts.\n",
    "\n",
    "Arrival Destination: The station where the journey ends.\n",
    "\n",
    "Date of Journey: The date of the train journey.\n",
    "\n",
    "Departure Time: The scheduled departure time.\n",
    "\n",
    "Arrival Time: The scheduled arrival time.\n",
    "\n",
    "Actual Arrival Time: The actual arrival time.\n",
    "\n",
    "Journey Status: The status of the journey (e.g., On Time, Delayed).\n",
    "\n",
    "Reason for Delay: The reason for the delay, if any.\n",
    "\n",
    "Refund Request: Whether a refund was requested."
   ]
  },
  {
   "cell_type": "markdown",
   "id": "fd55f5ef-eff9-46e9-b8a7-5c34048c7592",
   "metadata": {},
   "source": [
    "#### Dataset Overview:\n"
   ]
  },
  {
   "cell_type": "markdown",
   "id": "a709e983-0f10-4422-94db-3de3abf7a508",
   "metadata": {},
   "source": [
    "Rows: 31,653\n",
    "\n",
    "Columns: 18\n",
    "\n",
    "Target Variable: Journey Status (values: \"On Time\" or \"Delayed\")"
   ]
  },
  {
   "cell_type": "markdown",
   "id": "0ba6900d-691b-492a-927e-5e99a49b5fe5",
   "metadata": {},
   "source": [
    "# DATA EXPLORATION"
   ]
  },
  {
   "cell_type": "markdown",
   "id": "beab88eb-c4ff-4832-9aa3-a160352ce9ea",
   "metadata": {},
   "source": [
    "#### Importing Libraries"
   ]
  },
  {
   "cell_type": "code",
   "execution_count": 1,
   "id": "af88d79a-f1b7-4c74-809e-236a2743e77c",
   "metadata": {},
   "outputs": [],
   "source": [
    "import warnings\n",
    "import sys\n",
    "if not sys.warnoptions:\n",
    "    warnings.simplefilter(\"ignore\")\n"
   ]
  },
  {
   "cell_type": "code",
   "execution_count": 2,
   "id": "75abed9c-3f12-4394-9900-aac1d26be33f",
   "metadata": {},
   "outputs": [],
   "source": [
    "import pandas as pd\n",
    "import numpy as np\n",
    "import matplotlib.pyplot as plt\n",
    "import seaborn as sns\n",
    "from sklearn.preprocessing import StandardScaler, LabelEncoder\n",
    "from sklearn.feature_selection import SelectKBest, f_classif\n",
    "from sklearn.model_selection import train_test_split, GridSearchCV\n",
    "from sklearn.metrics import accuracy_score, classification_report\n",
    "from sklearn.ensemble import RandomForestClassifier, GradientBoostingClassifier\n",
    "from sklearn.linear_model import LogisticRegression\n",
    "from sklearn.svm import SVC\n",
    "from sklearn.neighbors import KNeighborsClassifier\n",
    "sns.set(style=\"whitegrid\")"
   ]
  },
  {
   "cell_type": "markdown",
   "id": "401bf794-e2e3-42c1-9d46-444e58697520",
   "metadata": {},
   "source": [
    "##### Loading dataset"
   ]
  },
  {
   "cell_type": "code",
   "execution_count": 22,
   "id": "4ad22d38-676b-47fb-b47b-e0be28ee2e60",
   "metadata": {},
   "outputs": [
    {
     "name": "stdout",
     "output_type": "stream",
     "text": [
      "<class 'pandas.core.frame.DataFrame'>\n",
      "RangeIndex: 31653 entries, 0 to 31652\n",
      "Data columns (total 18 columns):\n",
      " #   Column               Non-Null Count  Dtype \n",
      "---  ------               --------------  ----- \n",
      " 0   Transaction ID       31653 non-null  object\n",
      " 1   Date of Purchase     31653 non-null  object\n",
      " 2   Time of Purchase     31653 non-null  object\n",
      " 3   Purchase Type        31653 non-null  object\n",
      " 4   Payment Method       31653 non-null  object\n",
      " 5   Railcard             10735 non-null  object\n",
      " 6   Ticket Class         31653 non-null  object\n",
      " 7   Ticket Type          31653 non-null  object\n",
      " 8   Price                31653 non-null  int64 \n",
      " 9   Departure Station    31653 non-null  object\n",
      " 10  Arrival Destination  31653 non-null  object\n",
      " 11  Date of Journey      31653 non-null  object\n",
      " 12  Departure Time       31653 non-null  object\n",
      " 13  Arrival Time         31653 non-null  object\n",
      " 14  Actual Arrival Time  29773 non-null  object\n",
      " 15  Journey Status       31653 non-null  object\n",
      " 16  Reason for Delay     4172 non-null   object\n",
      " 17  Refund Request       31653 non-null  object\n",
      "dtypes: int64(1), object(17)\n",
      "memory usage: 4.3+ MB\n"
     ]
    },
    {
     "data": {
      "text/plain": [
       "(None,\n",
       "             Transaction ID Date of Purchase Time of Purchase Purchase Type  \\\n",
       " 0  da8a6ba8-b3dc-4677-b176       2023-12-08         12:41:11        Online   \n",
       " 1  b0cdd1b0-f214-4197-be53       2023-12-16         11:23:01       Station   \n",
       " 2  f3ba7a96-f713-40d9-9629       2023-12-19         19:51:27        Online   \n",
       " 3  b2471f11-4fe7-4c87-8ab4       2023-12-20         23:00:36       Station   \n",
       " 4  2be00b45-0762-485e-a7a3       2023-12-27         18:22:56        Online   \n",
       " \n",
       "   Payment Method Railcard Ticket Class Ticket Type  Price  \\\n",
       " 0    Contactless    Adult     Standard     Advance     43   \n",
       " 1    Credit Card    Adult     Standard     Advance     23   \n",
       " 2    Credit Card      NaN     Standard     Advance      3   \n",
       " 3    Credit Card      NaN     Standard     Advance     13   \n",
       " 4    Contactless      NaN     Standard     Advance     76   \n",
       " \n",
       "        Departure Station    Arrival Destination Date of Journey  \\\n",
       " 0      London Paddington  Liverpool Lime Street      2024-01-01   \n",
       " 1     London Kings Cross                   York      2024-01-01   \n",
       " 2  Liverpool Lime Street  Manchester Piccadilly      2024-01-02   \n",
       " 3      London Paddington                Reading      2024-01-01   \n",
       " 4  Liverpool Lime Street          London Euston      2024-01-01   \n",
       " \n",
       "   Departure Time Arrival Time Actual Arrival Time Journey Status  \\\n",
       " 0       11:00:00     13:30:00            13:30:00        On Time   \n",
       " 1       09:45:00     11:35:00            11:40:00        Delayed   \n",
       " 2       18:15:00     18:45:00            18:45:00        On Time   \n",
       " 3       21:30:00     22:30:00            22:30:00        On Time   \n",
       " 4       16:45:00     19:00:00            19:00:00        On Time   \n",
       " \n",
       "   Reason for Delay Refund Request  \n",
       " 0              NaN             No  \n",
       " 1   Signal Failure             No  \n",
       " 2              NaN             No  \n",
       " 3              NaN             No  \n",
       " 4              NaN             No  )"
      ]
     },
     "execution_count": 22,
     "metadata": {},
     "output_type": "execute_result"
    }
   ],
   "source": [
    "df = pd.read_csv(\"railway.csv\")\n",
    "\n",
    "# Display basic information\n",
    "df.info(), df.head()"
   ]
  },
  {
   "cell_type": "code",
   "execution_count": 23,
   "id": "9accefee-d491-4f9c-9b28-cbe070241eed",
   "metadata": {},
   "outputs": [
    {
     "data": {
      "text/plain": [
       "(31653, 18)"
      ]
     },
     "execution_count": 23,
     "metadata": {},
     "output_type": "execute_result"
    }
   ],
   "source": [
    "df.shape"
   ]
  },
  {
   "cell_type": "code",
   "execution_count": 24,
   "id": "b6a3dea6-a0bf-4b18-abac-7d5302df1064",
   "metadata": {},
   "outputs": [
    {
     "data": {
      "text/html": [
       "<div>\n",
       "<style scoped>\n",
       "    .dataframe tbody tr th:only-of-type {\n",
       "        vertical-align: middle;\n",
       "    }\n",
       "\n",
       "    .dataframe tbody tr th {\n",
       "        vertical-align: top;\n",
       "    }\n",
       "\n",
       "    .dataframe thead th {\n",
       "        text-align: right;\n",
       "    }\n",
       "</style>\n",
       "<table border=\"1\" class=\"dataframe\">\n",
       "  <thead>\n",
       "    <tr style=\"text-align: right;\">\n",
       "      <th></th>\n",
       "      <th>Price</th>\n",
       "    </tr>\n",
       "  </thead>\n",
       "  <tbody>\n",
       "    <tr>\n",
       "      <th>count</th>\n",
       "      <td>31653.000000</td>\n",
       "    </tr>\n",
       "    <tr>\n",
       "      <th>mean</th>\n",
       "      <td>23.439200</td>\n",
       "    </tr>\n",
       "    <tr>\n",
       "      <th>std</th>\n",
       "      <td>29.997628</td>\n",
       "    </tr>\n",
       "    <tr>\n",
       "      <th>min</th>\n",
       "      <td>1.000000</td>\n",
       "    </tr>\n",
       "    <tr>\n",
       "      <th>25%</th>\n",
       "      <td>5.000000</td>\n",
       "    </tr>\n",
       "    <tr>\n",
       "      <th>50%</th>\n",
       "      <td>11.000000</td>\n",
       "    </tr>\n",
       "    <tr>\n",
       "      <th>75%</th>\n",
       "      <td>35.000000</td>\n",
       "    </tr>\n",
       "    <tr>\n",
       "      <th>max</th>\n",
       "      <td>267.000000</td>\n",
       "    </tr>\n",
       "  </tbody>\n",
       "</table>\n",
       "</div>"
      ],
      "text/plain": [
       "              Price\n",
       "count  31653.000000\n",
       "mean      23.439200\n",
       "std       29.997628\n",
       "min        1.000000\n",
       "25%        5.000000\n",
       "50%       11.000000\n",
       "75%       35.000000\n",
       "max      267.000000"
      ]
     },
     "execution_count": 24,
     "metadata": {},
     "output_type": "execute_result"
    }
   ],
   "source": [
    "df.describe()"
   ]
  },
  {
   "cell_type": "markdown",
   "id": "a447aa8a-d812-4132-869a-3cbec6c58c56",
   "metadata": {},
   "source": [
    "#### Check for duplicate values"
   ]
  },
  {
   "cell_type": "code",
   "execution_count": 25,
   "id": "55a38a74-ec1a-4045-aded-dc835f53b7f8",
   "metadata": {},
   "outputs": [],
   "source": [
    "duplicate_count = df.duplicated().sum()"
   ]
  },
  {
   "cell_type": "markdown",
   "id": "a87dbfd0-8186-433d-889a-2097c8dc7310",
   "metadata": {},
   "source": [
    "#### Check for missing values"
   ]
  },
  {
   "cell_type": "code",
   "execution_count": 26,
   "id": "06484d7a-ef6e-4178-8748-3167d7b4648e",
   "metadata": {},
   "outputs": [
    {
     "data": {
      "text/plain": [
       "(0,\n",
       " Transaction ID             0\n",
       " Date of Purchase           0\n",
       " Time of Purchase           0\n",
       " Purchase Type              0\n",
       " Payment Method             0\n",
       " Railcard               20918\n",
       " Ticket Class               0\n",
       " Ticket Type                0\n",
       " Price                      0\n",
       " Departure Station          0\n",
       " Arrival Destination        0\n",
       " Date of Journey            0\n",
       " Departure Time             0\n",
       " Arrival Time               0\n",
       " Actual Arrival Time     1880\n",
       " Journey Status             0\n",
       " Reason for Delay       27481\n",
       " Refund Request             0\n",
       " dtype: int64)"
      ]
     },
     "execution_count": 26,
     "metadata": {},
     "output_type": "execute_result"
    }
   ],
   "source": [
    "missing_values = df.isnull().sum()\n",
    "\n",
    "duplicate_count, missing_values"
   ]
  },
  {
   "cell_type": "markdown",
   "id": "d17bcfb2-6db8-4313-bff8-85f6b9a80fcc",
   "metadata": {},
   "source": [
    "#### Handling Missing Values"
   ]
  },
  {
   "cell_type": "code",
   "execution_count": 27,
   "id": "58250a89-1b33-4b6d-9352-f4a70b4fdd96",
   "metadata": {},
   "outputs": [
    {
     "name": "stdout",
     "output_type": "stream",
     "text": [
      "Transaction ID             0\n",
      "Date of Purchase           0\n",
      "Time of Purchase           0\n",
      "Purchase Type              0\n",
      "Payment Method             0\n",
      "Railcard               20918\n",
      "Ticket Class               0\n",
      "Ticket Type                0\n",
      "Price                      0\n",
      "Departure Station          0\n",
      "Arrival Destination        0\n",
      "Date of Journey            0\n",
      "Departure Time             0\n",
      "Arrival Time               0\n",
      "Actual Arrival Time        0\n",
      "Journey Status             0\n",
      "Refund Request             0\n",
      "dtype: int64\n"
     ]
    }
   ],
   "source": [
    "# Drop \"Reason for Delay\" as it's mostly missing\n",
    "df.drop(columns=['Reason for Delay'], inplace=True)\n",
    "\n",
    "# Replace \"None\" in Railcard with \"No Railcard\"\n",
    "df['Railcard'] = df['Railcard'].replace('None', 'No Railcard')\n",
    "\n",
    "# Impute missing values in \"Actual Arrival Time\" with the scheduled \"Arrival Time\"\n",
    "df['Actual Arrival Time'].fillna(df['Arrival Time'], inplace=True)\n",
    "\n",
    "# Verify missing values are handled\n",
    "print(df.isnull().sum())"
   ]
  },
  {
   "cell_type": "code",
   "execution_count": null,
   "id": "56fa12d0-03e4-4ed2-b603-da918a311c60",
   "metadata": {},
   "outputs": [],
   "source": []
  },
  {
   "cell_type": "code",
   "execution_count": null,
   "id": "f00ec886-db78-4e56-a441-69295e2bd5f9",
   "metadata": {},
   "outputs": [],
   "source": []
  },
  {
   "cell_type": "code",
   "execution_count": null,
   "id": "ea01725c-ee56-44df-960f-f1639fd5a933",
   "metadata": {},
   "outputs": [],
   "source": []
  },
  {
   "cell_type": "code",
   "execution_count": null,
   "id": "e8d31d3c-d643-41c4-9f8d-2e0e84f3c7b8",
   "metadata": {},
   "outputs": [],
   "source": []
  },
  {
   "cell_type": "code",
   "execution_count": null,
   "id": "8e049aa4-d78b-40fe-a8f8-1f9cdea26efc",
   "metadata": {},
   "outputs": [],
   "source": [
    "\n"
   ]
  }
 ],
 "metadata": {
  "kernelspec": {
   "display_name": "Python 3 (ipykernel)",
   "language": "python",
   "name": "python3"
  },
  "language_info": {
   "codemirror_mode": {
    "name": "ipython",
    "version": 3
   },
   "file_extension": ".py",
   "mimetype": "text/x-python",
   "name": "python",
   "nbconvert_exporter": "python",
   "pygments_lexer": "ipython3",
   "version": "3.12.7"
  }
 },
 "nbformat": 4,
 "nbformat_minor": 5
}
