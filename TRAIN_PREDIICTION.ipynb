{
 "cells": [
  {
   "cell_type": "markdown",
   "id": "54ed3f31-10f2-4fa3-b7ae-89706a75d691",
   "metadata": {},
   "source": [
    "# Train Delay Prediction"
   ]
  },
  {
   "cell_type": "markdown",
   "id": "4dde2254-8475-4a6f-ab6b-8b58b1113d74",
   "metadata": {},
   "source": [
    "### CONTEXT\n"
   ]
  },
  {
   "cell_type": "markdown",
   "id": "fa8e6aca-5d36-4dd2-a73b-4ce4a43cf86a",
   "metadata": {},
   "source": [
    "Train delays are a significant issue in the railway industry, causing inconvenience to passengers and financial losses for railway operators.\n",
    "Delays can occur due to various reasons such as signal failures, technical issues, weather conditions, and staffing shortages.\n",
    "Predicting whether a train journey will be \"On Time\" or \"Delayed\" can help railway operators manage resources more effectively and improve passenger satisfaction.\n",
    "\n",
    "The dataset provided contains historical booking and journey data, including details such as purchase date and time, ticket type, departure and arrival stations, journey status, and reasons for delays.\n",
    "By analyzing this data, we can build a predictive model to classify train journeys as \"On Time\" or \"Delayed.\""
   ]
  },
  {
   "cell_type": "markdown",
   "id": "17212e11-8f63-4a97-836b-8f51414f8e91",
   "metadata": {},
   "source": [
    "### PROBLEM STATEMENT"
   ]
  },
  {
   "cell_type": "markdown",
   "id": "52fc0ae2-4e23-44db-91dc-926561770f80",
   "metadata": {},
   "source": [
    "\n",
    "Using the provided dataset, the goal is to predict whether a train journey will be \"On Time\" or \"Delayed.\" \n"
   ]
  },
  {
   "cell_type": "markdown",
   "id": "9e8376d9-be00-4fa3-ae27-9c0d96ccefa5",
   "metadata": {},
   "source": [
    "### CONTENT"
   ]
  },
  {
   "cell_type": "markdown",
   "id": "5a9795cb-2397-47cb-87a1-9f7cf722c2dc",
   "metadata": {},
   "source": [
    "\n",
    "\n",
    "The dataset includes the following features:\n",
    "\n",
    "Transaction ID: Unique identifier for each transaction.\n",
    "\n",
    "Date of Purchase: The date when the ticket was purchased.\n",
    "\n",
    "Time of Purchase: The time when the ticket was purchased.\n",
    "\n",
    "Purchase Type: The method of purchase (e.g., Online, Station).\n",
    "\n",
    "Payment Method: The payment method used (e.g., Credit Card, Contactless).\n",
    "\n",
    "Railcard: Type of railcard used (e.g., Adult, Disabled).\n",
    "\n",
    "Ticket Class: Class of the ticket (e.g., Standard, First Class).\n",
    "\n",
    "Ticket Type: Type of ticket (e.g., Advance, Off-Peak).\n",
    "\n",
    "Price: The price of the ticket.\n",
    "\n",
    "Departure Station: The station where the journey starts.\n",
    "\n",
    "Arrival Destination: The station where the journey ends.\n",
    "\n",
    "Date of Journey: The date of the train journey.\n",
    "\n",
    "Departure Time: The scheduled departure time.\n",
    "\n",
    "Arrival Time: The scheduled arrival time.\n",
    "\n",
    "Actual Arrival Time: The actual arrival time.\n",
    "\n",
    "Journey Status: The status of the journey (e.g., On Time, Delayed).\n",
    "\n",
    "Reason for Delay: The reason for the delay, if any.\n",
    "\n",
    "Refund Request: Whether a refund was requested."
   ]
  },
  {
   "cell_type": "markdown",
   "id": "fd55f5ef-eff9-46e9-b8a7-5c34048c7592",
   "metadata": {},
   "source": [
    "#### Dataset Overview:\n"
   ]
  },
  {
   "cell_type": "markdown",
   "id": "a709e983-0f10-4422-94db-3de3abf7a508",
   "metadata": {},
   "source": [
    "Rows: 31,653\n",
    "\n",
    "Columns: 18\n",
    "\n",
    "Target Variable: Journey Status (values: \"On Time\" or \"Delayed\")"
   ]
  },
  {
   "cell_type": "markdown",
   "id": "0ba6900d-691b-492a-927e-5e99a49b5fe5",
   "metadata": {},
   "source": [
    "# DATA EXPLORATION"
   ]
  },
  {
   "cell_type": "markdown",
   "id": "beab88eb-c4ff-4832-9aa3-a160352ce9ea",
   "metadata": {},
   "source": [
    "#### Importing Libraries"
   ]
  },
  {
   "cell_type": "code",
   "execution_count": 1,
   "id": "af88d79a-f1b7-4c74-809e-236a2743e77c",
   "metadata": {},
   "outputs": [],
   "source": [
    "import warnings\n",
    "import sys\n",
    "if not sys.warnoptions:\n",
    "    warnings.simplefilter(\"ignore\")\n"
   ]
  },
  {
   "cell_type": "code",
   "execution_count": 2,
   "id": "75abed9c-3f12-4394-9900-aac1d26be33f",
   "metadata": {},
   "outputs": [],
   "source": [
    "import pandas as pd\n",
    "import numpy as np\n",
    "import matplotlib.pyplot as plt\n",
    "import seaborn as sns\n",
    "from sklearn.preprocessing import StandardScaler, LabelEncoder\n",
    "from sklearn.feature_selection import SelectKBest, f_classif\n",
    "from sklearn.model_selection import train_test_split, GridSearchCV\n",
    "from sklearn.metrics import accuracy_score, classification_report\n",
    "from sklearn.ensemble import RandomForestClassifier, GradientBoostingClassifier\n",
    "from sklearn.linear_model import LogisticRegression\n",
    "from sklearn.svm import SVC\n",
    "from sklearn.neighbors import KNeighborsClassifier\n",
    "sns.set(style=\"whitegrid\")"
   ]
  },
  {
   "cell_type": "markdown",
   "id": "401bf794-e2e3-42c1-9d46-444e58697520",
   "metadata": {},
   "source": [
    "##### Loading dataset"
   ]
  },
  {
   "cell_type": "code",
   "execution_count": 3,
   "id": "4ad22d38-676b-47fb-b47b-e0be28ee2e60",
   "metadata": {},
   "outputs": [
    {
     "name": "stdout",
     "output_type": "stream",
     "text": [
      "<class 'pandas.core.frame.DataFrame'>\n",
      "RangeIndex: 31653 entries, 0 to 31652\n",
      "Data columns (total 18 columns):\n",
      " #   Column               Non-Null Count  Dtype \n",
      "---  ------               --------------  ----- \n",
      " 0   Transaction ID       31653 non-null  object\n",
      " 1   Date of Purchase     31653 non-null  object\n",
      " 2   Time of Purchase     31653 non-null  object\n",
      " 3   Purchase Type        31653 non-null  object\n",
      " 4   Payment Method       31653 non-null  object\n",
      " 5   Railcard             10735 non-null  object\n",
      " 6   Ticket Class         31653 non-null  object\n",
      " 7   Ticket Type          31653 non-null  object\n",
      " 8   Price                31653 non-null  int64 \n",
      " 9   Departure Station    31653 non-null  object\n",
      " 10  Arrival Destination  31653 non-null  object\n",
      " 11  Date of Journey      31653 non-null  object\n",
      " 12  Departure Time       31653 non-null  object\n",
      " 13  Arrival Time         31653 non-null  object\n",
      " 14  Actual Arrival Time  29773 non-null  object\n",
      " 15  Journey Status       31653 non-null  object\n",
      " 16  Reason for Delay     4172 non-null   object\n",
      " 17  Refund Request       31653 non-null  object\n",
      "dtypes: int64(1), object(17)\n",
      "memory usage: 4.3+ MB\n"
     ]
    },
    {
     "data": {
      "text/plain": [
       "(None,\n",
       "             Transaction ID Date of Purchase Time of Purchase Purchase Type  \\\n",
       " 0  da8a6ba8-b3dc-4677-b176       2023-12-08         12:41:11        Online   \n",
       " 1  b0cdd1b0-f214-4197-be53       2023-12-16         11:23:01       Station   \n",
       " 2  f3ba7a96-f713-40d9-9629       2023-12-19         19:51:27        Online   \n",
       " 3  b2471f11-4fe7-4c87-8ab4       2023-12-20         23:00:36       Station   \n",
       " 4  2be00b45-0762-485e-a7a3       2023-12-27         18:22:56        Online   \n",
       " \n",
       "   Payment Method Railcard Ticket Class Ticket Type  Price  \\\n",
       " 0    Contactless    Adult     Standard     Advance     43   \n",
       " 1    Credit Card    Adult     Standard     Advance     23   \n",
       " 2    Credit Card      NaN     Standard     Advance      3   \n",
       " 3    Credit Card      NaN     Standard     Advance     13   \n",
       " 4    Contactless      NaN     Standard     Advance     76   \n",
       " \n",
       "        Departure Station    Arrival Destination Date of Journey  \\\n",
       " 0      London Paddington  Liverpool Lime Street      2024-01-01   \n",
       " 1     London Kings Cross                   York      2024-01-01   \n",
       " 2  Liverpool Lime Street  Manchester Piccadilly      2024-01-02   \n",
       " 3      London Paddington                Reading      2024-01-01   \n",
       " 4  Liverpool Lime Street          London Euston      2024-01-01   \n",
       " \n",
       "   Departure Time Arrival Time Actual Arrival Time Journey Status  \\\n",
       " 0       11:00:00     13:30:00            13:30:00        On Time   \n",
       " 1       09:45:00     11:35:00            11:40:00        Delayed   \n",
       " 2       18:15:00     18:45:00            18:45:00        On Time   \n",
       " 3       21:30:00     22:30:00            22:30:00        On Time   \n",
       " 4       16:45:00     19:00:00            19:00:00        On Time   \n",
       " \n",
       "   Reason for Delay Refund Request  \n",
       " 0              NaN             No  \n",
       " 1   Signal Failure             No  \n",
       " 2              NaN             No  \n",
       " 3              NaN             No  \n",
       " 4              NaN             No  )"
      ]
     },
     "execution_count": 3,
     "metadata": {},
     "output_type": "execute_result"
    }
   ],
   "source": [
    "df = pd.read_csv(\"railway.csv\")\n",
    "\n",
    "# Display basic information\n",
    "df.info(), df.head()"
   ]
  },
  {
   "cell_type": "code",
   "execution_count": 4,
   "id": "9accefee-d491-4f9c-9b28-cbe070241eed",
   "metadata": {},
   "outputs": [
    {
     "data": {
      "text/plain": [
       "(31653, 18)"
      ]
     },
     "execution_count": 4,
     "metadata": {},
     "output_type": "execute_result"
    }
   ],
   "source": [
    "df.shape"
   ]
  },
  {
   "cell_type": "code",
   "execution_count": 5,
   "id": "b6a3dea6-a0bf-4b18-abac-7d5302df1064",
   "metadata": {},
   "outputs": [
    {
     "data": {
      "text/html": [
       "<div>\n",
       "<style scoped>\n",
       "    .dataframe tbody tr th:only-of-type {\n",
       "        vertical-align: middle;\n",
       "    }\n",
       "\n",
       "    .dataframe tbody tr th {\n",
       "        vertical-align: top;\n",
       "    }\n",
       "\n",
       "    .dataframe thead th {\n",
       "        text-align: right;\n",
       "    }\n",
       "</style>\n",
       "<table border=\"1\" class=\"dataframe\">\n",
       "  <thead>\n",
       "    <tr style=\"text-align: right;\">\n",
       "      <th></th>\n",
       "      <th>Price</th>\n",
       "    </tr>\n",
       "  </thead>\n",
       "  <tbody>\n",
       "    <tr>\n",
       "      <th>count</th>\n",
       "      <td>31653.000000</td>\n",
       "    </tr>\n",
       "    <tr>\n",
       "      <th>mean</th>\n",
       "      <td>23.439200</td>\n",
       "    </tr>\n",
       "    <tr>\n",
       "      <th>std</th>\n",
       "      <td>29.997628</td>\n",
       "    </tr>\n",
       "    <tr>\n",
       "      <th>min</th>\n",
       "      <td>1.000000</td>\n",
       "    </tr>\n",
       "    <tr>\n",
       "      <th>25%</th>\n",
       "      <td>5.000000</td>\n",
       "    </tr>\n",
       "    <tr>\n",
       "      <th>50%</th>\n",
       "      <td>11.000000</td>\n",
       "    </tr>\n",
       "    <tr>\n",
       "      <th>75%</th>\n",
       "      <td>35.000000</td>\n",
       "    </tr>\n",
       "    <tr>\n",
       "      <th>max</th>\n",
       "      <td>267.000000</td>\n",
       "    </tr>\n",
       "  </tbody>\n",
       "</table>\n",
       "</div>"
      ],
      "text/plain": [
       "              Price\n",
       "count  31653.000000\n",
       "mean      23.439200\n",
       "std       29.997628\n",
       "min        1.000000\n",
       "25%        5.000000\n",
       "50%       11.000000\n",
       "75%       35.000000\n",
       "max      267.000000"
      ]
     },
     "execution_count": 5,
     "metadata": {},
     "output_type": "execute_result"
    }
   ],
   "source": [
    "df.describe()"
   ]
  },
  {
   "cell_type": "markdown",
   "id": "a447aa8a-d812-4132-869a-3cbec6c58c56",
   "metadata": {},
   "source": [
    "#### Check for duplicate values"
   ]
  },
  {
   "cell_type": "code",
   "execution_count": 6,
   "id": "55a38a74-ec1a-4045-aded-dc835f53b7f8",
   "metadata": {},
   "outputs": [],
   "source": [
    "duplicate_count = df.duplicated().sum()"
   ]
  },
  {
   "cell_type": "markdown",
   "id": "a87dbfd0-8186-433d-889a-2097c8dc7310",
   "metadata": {},
   "source": [
    "#### Check for missing values"
   ]
  },
  {
   "cell_type": "code",
   "execution_count": 7,
   "id": "06484d7a-ef6e-4178-8748-3167d7b4648e",
   "metadata": {},
   "outputs": [
    {
     "data": {
      "text/plain": [
       "(0,\n",
       " Transaction ID             0\n",
       " Date of Purchase           0\n",
       " Time of Purchase           0\n",
       " Purchase Type              0\n",
       " Payment Method             0\n",
       " Railcard               20918\n",
       " Ticket Class               0\n",
       " Ticket Type                0\n",
       " Price                      0\n",
       " Departure Station          0\n",
       " Arrival Destination        0\n",
       " Date of Journey            0\n",
       " Departure Time             0\n",
       " Arrival Time               0\n",
       " Actual Arrival Time     1880\n",
       " Journey Status             0\n",
       " Reason for Delay       27481\n",
       " Refund Request             0\n",
       " dtype: int64)"
      ]
     },
     "execution_count": 7,
     "metadata": {},
     "output_type": "execute_result"
    }
   ],
   "source": [
    "missing_values = df.isnull().sum()\n",
    "\n",
    "duplicate_count, missing_values"
   ]
  },
  {
   "cell_type": "markdown",
   "id": "d17bcfb2-6db8-4313-bff8-85f6b9a80fcc",
   "metadata": {},
   "source": [
    "#### Handling Missing Values"
   ]
  },
  {
   "cell_type": "code",
   "execution_count": 8,
   "id": "58250a89-1b33-4b6d-9352-f4a70b4fdd96",
   "metadata": {},
   "outputs": [
    {
     "name": "stdout",
     "output_type": "stream",
     "text": [
      "Transaction ID         0\n",
      "Date of Purchase       0\n",
      "Time of Purchase       0\n",
      "Purchase Type          0\n",
      "Payment Method         0\n",
      "Railcard               0\n",
      "Ticket Class           0\n",
      "Ticket Type            0\n",
      "Price                  0\n",
      "Departure Station      0\n",
      "Arrival Destination    0\n",
      "Date of Journey        0\n",
      "Departure Time         0\n",
      "Arrival Time           0\n",
      "Actual Arrival Time    0\n",
      "Journey Status         0\n",
      "Refund Request         0\n",
      "dtype: int64\n"
     ]
    }
   ],
   "source": [
    "# Drop \"Reason for Delay\" as it's mostly missing\n",
    "df.drop(columns=['Reason for Delay'], inplace=True)\n",
    "\n",
    "# Replace \"None\" in Railcard with \"No Railcard\"\n",
    "df['Railcard'] = df['Railcard'].fillna('No Railcard')\n",
    "\n",
    "\n",
    "# Impute missing values in \"Actual Arrival Time\" with the scheduled \"Arrival Time\"\n",
    "df['Actual Arrival Time'].fillna(df['Arrival Time'], inplace=True)\n",
    "\n",
    "# Verify missing values are handled\n",
    "print(df.isnull().sum())"
   ]
  },
  {
   "cell_type": "code",
   "execution_count": 9,
   "id": "56fa12d0-03e4-4ed2-b603-da918a311c60",
   "metadata": {},
   "outputs": [
    {
     "name": "stdout",
     "output_type": "stream",
     "text": [
      "Index(['Transaction ID', 'Date of Purchase', 'Time of Purchase',\n",
      "       'Purchase Type', 'Payment Method', 'Railcard', 'Ticket Class',\n",
      "       'Ticket Type', 'Price', 'Departure Station', 'Arrival Destination',\n",
      "       'Date of Journey', 'Departure Time', 'Arrival Time',\n",
      "       'Actual Arrival Time', 'Journey Status', 'Refund Request'],\n",
      "      dtype='object')\n"
     ]
    }
   ],
   "source": [
    "print(df.columns) "
   ]
  },
  {
   "cell_type": "code",
   "execution_count": 10,
   "id": "6d7f45e1-f211-4732-817b-80f239035152",
   "metadata": {},
   "outputs": [],
   "source": [
    "df['Journey Status'] = df['Journey Status'].replace('Cancelled','Delayed')"
   ]
  },
  {
   "cell_type": "code",
   "execution_count": 11,
   "id": "f00ec886-db78-4e56-a441-69295e2bd5f9",
   "metadata": {},
   "outputs": [
    {
     "data": {
      "text/plain": [
       "(31653, 17)"
      ]
     },
     "execution_count": 11,
     "metadata": {},
     "output_type": "execute_result"
    }
   ],
   "source": [
    "df.shape"
   ]
  },
  {
   "cell_type": "code",
   "execution_count": 12,
   "id": "ea01725c-ee56-44df-960f-f1639fd5a933",
   "metadata": {},
   "outputs": [
    {
     "name": "stdout",
     "output_type": "stream",
     "text": [
      "<class 'pandas.core.frame.DataFrame'>\n",
      "RangeIndex: 31653 entries, 0 to 31652\n",
      "Data columns (total 17 columns):\n",
      " #   Column               Non-Null Count  Dtype \n",
      "---  ------               --------------  ----- \n",
      " 0   Transaction ID       31653 non-null  object\n",
      " 1   Date of Purchase     31653 non-null  object\n",
      " 2   Time of Purchase     31653 non-null  object\n",
      " 3   Purchase Type        31653 non-null  object\n",
      " 4   Payment Method       31653 non-null  object\n",
      " 5   Railcard             31653 non-null  object\n",
      " 6   Ticket Class         31653 non-null  object\n",
      " 7   Ticket Type          31653 non-null  object\n",
      " 8   Price                31653 non-null  int64 \n",
      " 9   Departure Station    31653 non-null  object\n",
      " 10  Arrival Destination  31653 non-null  object\n",
      " 11  Date of Journey      31653 non-null  object\n",
      " 12  Departure Time       31653 non-null  object\n",
      " 13  Arrival Time         31653 non-null  object\n",
      " 14  Actual Arrival Time  31653 non-null  object\n",
      " 15  Journey Status       31653 non-null  object\n",
      " 16  Refund Request       31653 non-null  object\n",
      "dtypes: int64(1), object(16)\n",
      "memory usage: 4.1+ MB\n"
     ]
    },
    {
     "data": {
      "text/plain": [
       "(None,\n",
       "             Transaction ID Date of Purchase Time of Purchase Purchase Type  \\\n",
       " 0  da8a6ba8-b3dc-4677-b176       2023-12-08         12:41:11        Online   \n",
       " 1  b0cdd1b0-f214-4197-be53       2023-12-16         11:23:01       Station   \n",
       " 2  f3ba7a96-f713-40d9-9629       2023-12-19         19:51:27        Online   \n",
       " 3  b2471f11-4fe7-4c87-8ab4       2023-12-20         23:00:36       Station   \n",
       " 4  2be00b45-0762-485e-a7a3       2023-12-27         18:22:56        Online   \n",
       " \n",
       "   Payment Method     Railcard Ticket Class Ticket Type  Price  \\\n",
       " 0    Contactless        Adult     Standard     Advance     43   \n",
       " 1    Credit Card        Adult     Standard     Advance     23   \n",
       " 2    Credit Card  No Railcard     Standard     Advance      3   \n",
       " 3    Credit Card  No Railcard     Standard     Advance     13   \n",
       " 4    Contactless  No Railcard     Standard     Advance     76   \n",
       " \n",
       "        Departure Station    Arrival Destination Date of Journey  \\\n",
       " 0      London Paddington  Liverpool Lime Street      2024-01-01   \n",
       " 1     London Kings Cross                   York      2024-01-01   \n",
       " 2  Liverpool Lime Street  Manchester Piccadilly      2024-01-02   \n",
       " 3      London Paddington                Reading      2024-01-01   \n",
       " 4  Liverpool Lime Street          London Euston      2024-01-01   \n",
       " \n",
       "   Departure Time Arrival Time Actual Arrival Time Journey Status  \\\n",
       " 0       11:00:00     13:30:00            13:30:00        On Time   \n",
       " 1       09:45:00     11:35:00            11:40:00        Delayed   \n",
       " 2       18:15:00     18:45:00            18:45:00        On Time   \n",
       " 3       21:30:00     22:30:00            22:30:00        On Time   \n",
       " 4       16:45:00     19:00:00            19:00:00        On Time   \n",
       " \n",
       "   Refund Request  \n",
       " 0             No  \n",
       " 1             No  \n",
       " 2             No  \n",
       " 3             No  \n",
       " 4             No  )"
      ]
     },
     "execution_count": 12,
     "metadata": {},
     "output_type": "execute_result"
    }
   ],
   "source": [
    "df.info(), df.head()"
   ]
  },
  {
   "cell_type": "markdown",
   "id": "b89b6662-6ed6-4795-986a-eb80a47b345f",
   "metadata": {},
   "source": [
    "## EXPLORATIVE DATA ANALYSIS"
   ]
  },
  {
   "cell_type": "markdown",
   "id": "3288141c-3f71-488c-9978-a91af6f83475",
   "metadata": {},
   "source": [
    "#### Univariate Analysis\n"
   ]
  },
  {
   "cell_type": "code",
   "execution_count": 13,
   "id": "e720459d-d1d4-443e-ad7a-9f2af399a485",
   "metadata": {},
   "outputs": [
    {
     "data": {
      "image/png": "[encoded data removed]",
      "text/plain": [
       "<Figure size 800x400 with 1 Axes>"
      ]
     },
     "metadata": {},
     "output_type": "display_data"
    },
    {
     "data": {
      "image/png": "[encoded data removed]",
      "text/plain": [
       "<Figure size 1500x1200 with 9 Axes>"
      ]
     },
     "metadata": {},
     "output_type": "display_data"
    }
   ],
   "source": [
    "import matplotlib.pyplot as plt\n",
    "import seaborn as sns\n",
    "\n",
    "# Set plot style\n",
    "sns.set_style(\"whitegrid\")\n",
    "\n",
    "# Define numerical and categorical columns\n",
    "numerical_columns = ['Price']\n",
    "categorical_columns = ['Purchase Type', 'Payment Method', 'Railcard', 'Ticket Class', \n",
    "                       'Ticket Type', 'Journey Status', 'Refund Request']\n",
    "\n",
    "# Plot numerical column distributions\n",
    "plt.figure(figsize=(8, 4))\n",
    "sns.histplot(df['Price'], bins=30, kde=True)\n",
    "plt.title('Distribution of Ticket Price')\n",
    "plt.xlabel('Price')\n",
    "plt.ylabel('Frequency')\n",
    "plt.show()\n",
    "\n",
    "# Plot categorical column distributions\n",
    "fig, axes = plt.subplots(3, 3, figsize=(15, 12))\n",
    "axes = axes.flatten()\n",
    "\n",
    "for i, col in enumerate(categorical_columns):\n",
    "    sns.countplot(x=df[col], ax=axes[i], palette='viridis')\n",
    "    axes[i].set_title(f'Distribution of {col}')\n",
    "    axes[i].tick_params(axis='x', rotation=45)\n",
    "\n",
    "plt.tight_layout()\n",
    "plt.show()"
   ]
  },
  {
   "cell_type": "markdown",
   "id": "e11ea13b-1b8c-4cdf-9b16-dcc7a3d05665",
   "metadata": {},
   "source": [
    "### Bivariate Analysis"
   ]
  },
  {
   "cell_type": "code",
   "execution_count": 14,
   "id": "79e5173f-b502-4022-8b0e-4dbe90ccc4a1",
   "metadata": {},
   "outputs": [
    {
     "data": {
      "image/png": "[encoded data removed]",
      "text/plain": [
       "<Figure size 800x500 with 1 Axes>"
      ]
     },
     "metadata": {},
     "output_type": "display_data"
    },
    {
     "data": {
      "image/png": "[encoded data removed]",
      "text/plain": [
       "<Figure size 800x500 with 1 Axes>"
      ]
     },
     "metadata": {},
     "output_type": "display_data"
    },
    {
     "data": {
      "image/png": "[encoded data removed]",
      "text/plain": [
       "<Figure size 800x500 with 1 Axes>"
      ]
     },
     "metadata": {},
     "output_type": "display_data"
    }
   ],
   "source": [
    "# Bivariate Analysis - Price vs Journey Status\n",
    "plt.figure(figsize=(8, 5))\n",
    "sns.boxplot(x=df[\"Journey Status\"], y=df[\"Price\"], palette=\"coolwarm\")\n",
    "plt.title(\"Ticket Price vs Journey Status\")\n",
    "plt.xlabel(\"Journey Status\")\n",
    "plt.ylabel(\"Price\")\n",
    "plt.show()\n",
    "\n",
    "# Bivariate Analysis - Payment Method vs Journey Status\n",
    "plt.figure(figsize=(8, 5))\n",
    "sns.countplot(x=df[\"Payment Method\"], hue=df[\"Journey Status\"], palette=\"coolwarm\")\n",
    "plt.title(\"Payment Method vs Journey Status\")\n",
    "plt.xlabel(\"Payment Method\")\n",
    "plt.ylabel(\"Count\")\n",
    "plt.xticks(rotation=45)\n",
    "plt.show()\n",
    "\n",
    "# Bivariate Analysis - Ticket Class vs Journey Status\n",
    "plt.figure(figsize=(8, 5))\n",
    "sns.countplot(x=df[\"Ticket Class\"], hue=df[\"Journey Status\"], palette=\"coolwarm\")\n",
    "plt.title(\"Ticket Class vs Journey Status\")\n",
    "plt.xlabel(\"Ticket Class\")\n",
    "plt.ylabel(\"Count\")\n",
    "plt.show()"
   ]
  },
  {
   "cell_type": "markdown",
   "id": "ac1d4b64-e64a-4196-9609-b550223ba7cd",
   "metadata": {},
   "source": [
    "##### Outlier Detection and Removel using Box plots"
   ]
  },
  {
   "cell_type": "code",
   "execution_count": 15,
   "id": "595fdd30-744d-4637-afe0-aaa7f1df1fdd",
   "metadata": {},
   "outputs": [
    {
     "data": {
      "image/png": "[encoded data removed]",
      "text/plain": [
       "<Figure size 800x500 with 1 Axes>"
      ]
     },
     "metadata": {},
     "output_type": "display_data"
    },
    {
     "data": {
      "image/png": "[encoded data removed]",
      "text/plain": [
       "<Figure size 800x500 with 1 Axes>"
      ]
     },
     "metadata": {},
     "output_type": "display_data"
    },
    {
     "data": {
      "text/plain": [
       "1555"
      ]
     },
     "execution_count": 15,
     "metadata": {},
     "output_type": "execute_result"
    }
   ],
   "source": [
    "# Box Plot before Outlier Detection\n",
    "plt.figure(figsize=(8, 5))\n",
    "sns.boxplot(y=df[\"Price\"], palette=\"coolwarm\")\n",
    "plt.title(\"Box Plot of Ticket Price (Before Outlier Removal)\")\n",
    "plt.ylabel(\"Price\")\n",
    "plt.show()\n",
    "\n",
    "# Detect Outliers using IQR\n",
    "Q1 = df[\"Price\"].quantile(0.25)\n",
    "Q3 = df[\"Price\"].quantile(0.75)\n",
    "IQR = Q3 - Q1\n",
    "\n",
    "# Define bounds for outliers\n",
    "lower_bound = Q1 - 1.5 * IQR\n",
    "upper_bound = Q3 + 1.5 * IQR\n",
    "\n",
    "# Remove outliers\n",
    "df_cleaned = df[(df[\"Price\"] >= lower_bound) & (df[\"Price\"] <= upper_bound)]\n",
    "\n",
    "# Box Plot after Outlier Removal\n",
    "plt.figure(figsize=(8, 5))\n",
    "sns.boxplot(y=df_cleaned[\"Price\"], palette=\"coolwarm\")\n",
    "plt.title(\"Box Plot of Ticket Price (After Outlier Removal)\")\n",
    "plt.ylabel(\"Price\")\n",
    "plt.show()\n",
    "\n",
    "# Display number of rows removed\n",
    "outliers_removed = df.shape[0] - df_cleaned.shape[0]\n",
    "outliers_removed"
   ]
  },
  {
   "cell_type": "markdown",
   "id": "cf8366e9-1b98-47a0-a7f5-1a35baca33a8",
   "metadata": {},
   "source": [
    "#### Before removal: The box plot showed extreme values in ticket prices.\n",
    "\n",
    "#### After removal: The outliers were successfully removed, making the data distribution more reliable.\n",
    "\n",
    "#### Total outliers removed: 1,555 rows."
   ]
  },
  {
   "cell_type": "markdown",
   "id": "b81b2912-aac0-4c4d-9d39-6af9964b3425",
   "metadata": {},
   "source": [
    "### Skewness and Kurtosis Analysis:"
   ]
  },
  {
   "cell_type": "code",
   "execution_count": 16,
   "id": "1d50b992-f383-4978-b8c3-adc93c5feb65",
   "metadata": {},
   "outputs": [
    {
     "data": {
      "image/png": "[encoded data removed]",
      "text/plain": [
       "<Figure size 800x500 with 1 Axes>"
      ]
     },
     "metadata": {},
     "output_type": "display_data"
    },
    {
     "data": {
      "text/plain": [
       "((1.5393069545166584, 1.4271654000389358),\n",
       " (0.31903375450172267, -0.9484152232194978))"
      ]
     },
     "execution_count": 16,
     "metadata": {},
     "output_type": "execute_result"
    }
   ],
   "source": [
    "import numpy as np\n",
    "\n",
    "# Skewness and Kurtosis before transformation\n",
    "skewness_before = df_cleaned[\"Price\"].skew()\n",
    "kurtosis_before = df_cleaned[\"Price\"].kurtosis()\n",
    "\n",
    "# Apply log transformation to reduce skewness\n",
    "df_cleaned[\"Price\"] = np.log1p(df_cleaned[\"Price\"])\n",
    "\n",
    "# Skewness and Kurtosis after transformation\n",
    "skewness_after = df_cleaned[\"Price\"].skew()\n",
    "kurtosis_after = df_cleaned[\"Price\"].kurtosis()\n",
    "\n",
    "# Plot distribution after transformation\n",
    "plt.figure(figsize=(8, 5))\n",
    "sns.histplot(df_cleaned[\"Price\"], bins=30, kde=True, color=\"blue\")\n",
    "plt.title(\"Distribution of Ticket Price (After Log Transformation)\")\n",
    "plt.xlabel(\"Log(Price)\")\n",
    "plt.ylabel(\"Frequency\")\n",
    "plt.show()\n",
    "\n",
    "(skewness_before, kurtosis_before), (skewness_after, kurtosis_after)"
   ]
  },
  {
   "cell_type": "markdown",
   "id": "dc5f6cde-1fc0-41b2-9f7b-623c132465ba",
   "metadata": {},
   "source": [
    "Before Transformation:\n",
    "\n",
    "Skewness = 1.54 (right-skewed)\n",
    "\n",
    "Kurtosis = 1.43 (peaked distribution)\n",
    "\n",
    "After Log Transformation:\n",
    "\n",
    "Skewness = 0.32 (closer to normal distribution)\n",
    "\n",
    "Kurtosis = -0.95 (more balanced spread)\n",
    "\n",
    "The transformation successfully reduced skewness."
   ]
  },
  {
   "cell_type": "markdown",
   "id": "3c12ef78-6eb0-48ac-8f34-04b8460df250",
   "metadata": {},
   "source": [
    "## ENCODING"
   ]
  },
  {
   "cell_type": "code",
   "execution_count": 17,
   "id": "46ae544f-acd7-4a05-8f04-680cbeec1c67",
   "metadata": {},
   "outputs": [
    {
     "data": {
      "text/html": [
       "<div>\n",
       "<style scoped>\n",
       "    .dataframe tbody tr th:only-of-type {\n",
       "        vertical-align: middle;\n",
       "    }\n",
       "\n",
       "    .dataframe tbody tr th {\n",
       "        vertical-align: top;\n",
       "    }\n",
       "\n",
       "    .dataframe thead th {\n",
       "        text-align: right;\n",
       "    }\n",
       "</style>\n",
       "<table border=\"1\" class=\"dataframe\">\n",
       "  <thead>\n",
       "    <tr style=\"text-align: right;\">\n",
       "      <th></th>\n",
       "      <th>Transaction ID</th>\n",
       "      <th>Date of Purchase</th>\n",
       "      <th>Time of Purchase</th>\n",
       "      <th>Purchase Type</th>\n",
       "      <th>Payment Method</th>\n",
       "      <th>Railcard</th>\n",
       "      <th>Ticket Class</th>\n",
       "      <th>Ticket Type</th>\n",
       "      <th>Price</th>\n",
       "      <th>Departure Station</th>\n",
       "      <th>Arrival Destination</th>\n",
       "      <th>Date of Journey</th>\n",
       "      <th>Departure Time</th>\n",
       "      <th>Arrival Time</th>\n",
       "      <th>Actual Arrival Time</th>\n",
       "      <th>Journey Status</th>\n",
       "      <th>Refund Request</th>\n",
       "    </tr>\n",
       "  </thead>\n",
       "  <tbody>\n",
       "    <tr>\n",
       "      <th>0</th>\n",
       "      <td>da8a6ba8-b3dc-4677-b176</td>\n",
       "      <td>2023-12-08</td>\n",
       "      <td>12:41:11</td>\n",
       "      <td>0</td>\n",
       "      <td>0</td>\n",
       "      <td>0</td>\n",
       "      <td>1</td>\n",
       "      <td>0</td>\n",
       "      <td>3.784190</td>\n",
       "      <td>6</td>\n",
       "      <td>12</td>\n",
       "      <td>2024-01-01</td>\n",
       "      <td>11:00:00</td>\n",
       "      <td>13:30:00</td>\n",
       "      <td>13:30:00</td>\n",
       "      <td>1</td>\n",
       "      <td>0</td>\n",
       "    </tr>\n",
       "    <tr>\n",
       "      <th>1</th>\n",
       "      <td>b0cdd1b0-f214-4197-be53</td>\n",
       "      <td>2023-12-16</td>\n",
       "      <td>11:23:01</td>\n",
       "      <td>1</td>\n",
       "      <td>1</td>\n",
       "      <td>0</td>\n",
       "      <td>1</td>\n",
       "      <td>0</td>\n",
       "      <td>3.178054</td>\n",
       "      <td>5</td>\n",
       "      <td>31</td>\n",
       "      <td>2024-01-01</td>\n",
       "      <td>09:45:00</td>\n",
       "      <td>11:35:00</td>\n",
       "      <td>11:40:00</td>\n",
       "      <td>0</td>\n",
       "      <td>0</td>\n",
       "    </tr>\n",
       "    <tr>\n",
       "      <th>2</th>\n",
       "      <td>f3ba7a96-f713-40d9-9629</td>\n",
       "      <td>2023-12-19</td>\n",
       "      <td>19:51:27</td>\n",
       "      <td>0</td>\n",
       "      <td>1</td>\n",
       "      <td>2</td>\n",
       "      <td>1</td>\n",
       "      <td>0</td>\n",
       "      <td>1.386294</td>\n",
       "      <td>3</td>\n",
       "      <td>18</td>\n",
       "      <td>2024-01-02</td>\n",
       "      <td>18:15:00</td>\n",
       "      <td>18:45:00</td>\n",
       "      <td>18:45:00</td>\n",
       "      <td>1</td>\n",
       "      <td>0</td>\n",
       "    </tr>\n",
       "    <tr>\n",
       "      <th>3</th>\n",
       "      <td>b2471f11-4fe7-4c87-8ab4</td>\n",
       "      <td>2023-12-20</td>\n",
       "      <td>23:00:36</td>\n",
       "      <td>1</td>\n",
       "      <td>1</td>\n",
       "      <td>2</td>\n",
       "      <td>1</td>\n",
       "      <td>0</td>\n",
       "      <td>2.639057</td>\n",
       "      <td>6</td>\n",
       "      <td>23</td>\n",
       "      <td>2024-01-01</td>\n",
       "      <td>21:30:00</td>\n",
       "      <td>22:30:00</td>\n",
       "      <td>22:30:00</td>\n",
       "      <td>1</td>\n",
       "      <td>0</td>\n",
       "    </tr>\n",
       "    <tr>\n",
       "      <th>4</th>\n",
       "      <td>2be00b45-0762-485e-a7a3</td>\n",
       "      <td>2023-12-27</td>\n",
       "      <td>18:22:56</td>\n",
       "      <td>0</td>\n",
       "      <td>0</td>\n",
       "      <td>2</td>\n",
       "      <td>1</td>\n",
       "      <td>0</td>\n",
       "      <td>4.343805</td>\n",
       "      <td>3</td>\n",
       "      <td>13</td>\n",
       "      <td>2024-01-01</td>\n",
       "      <td>16:45:00</td>\n",
       "      <td>19:00:00</td>\n",
       "      <td>19:00:00</td>\n",
       "      <td>1</td>\n",
       "      <td>0</td>\n",
       "    </tr>\n",
       "    <tr>\n",
       "      <th>5</th>\n",
       "      <td>4e1dcd88-3d95-44ef-99fa</td>\n",
       "      <td>2023-12-30</td>\n",
       "      <td>07:56:06</td>\n",
       "      <td>0</td>\n",
       "      <td>1</td>\n",
       "      <td>2</td>\n",
       "      <td>1</td>\n",
       "      <td>0</td>\n",
       "      <td>3.583519</td>\n",
       "      <td>5</td>\n",
       "      <td>31</td>\n",
       "      <td>2024-01-01</td>\n",
       "      <td>06:15:00</td>\n",
       "      <td>08:05:00</td>\n",
       "      <td>08:05:00</td>\n",
       "      <td>1</td>\n",
       "      <td>0</td>\n",
       "    </tr>\n",
       "    <tr>\n",
       "      <th>6</th>\n",
       "      <td>1c74479d-85a4-4ba1-a607</td>\n",
       "      <td>2023-12-31</td>\n",
       "      <td>00:02:01</td>\n",
       "      <td>1</td>\n",
       "      <td>1</td>\n",
       "      <td>0</td>\n",
       "      <td>1</td>\n",
       "      <td>0</td>\n",
       "      <td>1.098612</td>\n",
       "      <td>4</td>\n",
       "      <td>21</td>\n",
       "      <td>2024-01-01</td>\n",
       "      <td>22:30:00</td>\n",
       "      <td>23:40:00</td>\n",
       "      <td>23:40:00</td>\n",
       "      <td>1</td>\n",
       "      <td>0</td>\n",
       "    </tr>\n",
       "    <tr>\n",
       "      <th>7</th>\n",
       "      <td>febf8dab-f808-46fa-bf2b</td>\n",
       "      <td>2023-12-31</td>\n",
       "      <td>01:35:18</td>\n",
       "      <td>1</td>\n",
       "      <td>0</td>\n",
       "      <td>1</td>\n",
       "      <td>1</td>\n",
       "      <td>0</td>\n",
       "      <td>1.098612</td>\n",
       "      <td>3</td>\n",
       "      <td>18</td>\n",
       "      <td>2024-01-01</td>\n",
       "      <td>00:00:00</td>\n",
       "      <td>00:30:00</td>\n",
       "      <td>00:30:00</td>\n",
       "      <td>1</td>\n",
       "      <td>0</td>\n",
       "    </tr>\n",
       "    <tr>\n",
       "      <th>8</th>\n",
       "      <td>01df916f-4291-41ec-a37d</td>\n",
       "      <td>2023-12-31</td>\n",
       "      <td>01:43:09</td>\n",
       "      <td>1</td>\n",
       "      <td>1</td>\n",
       "      <td>2</td>\n",
       "      <td>1</td>\n",
       "      <td>0</td>\n",
       "      <td>3.637586</td>\n",
       "      <td>4</td>\n",
       "      <td>31</td>\n",
       "      <td>2024-01-01</td>\n",
       "      <td>00:00:00</td>\n",
       "      <td>01:50:00</td>\n",
       "      <td>02:07:00</td>\n",
       "      <td>0</td>\n",
       "      <td>0</td>\n",
       "    </tr>\n",
       "    <tr>\n",
       "      <th>9</th>\n",
       "      <td>a8cedba7-1923-459d-b046</td>\n",
       "      <td>2023-12-31</td>\n",
       "      <td>03:05:52</td>\n",
       "      <td>0</td>\n",
       "      <td>1</td>\n",
       "      <td>2</td>\n",
       "      <td>1</td>\n",
       "      <td>0</td>\n",
       "      <td>2.639057</td>\n",
       "      <td>6</td>\n",
       "      <td>23</td>\n",
       "      <td>2024-01-01</td>\n",
       "      <td>01:30:00</td>\n",
       "      <td>02:30:00</td>\n",
       "      <td>02:30:00</td>\n",
       "      <td>1</td>\n",
       "      <td>0</td>\n",
       "    </tr>\n",
       "  </tbody>\n",
       "</table>\n",
       "</div>"
      ],
      "text/plain": [
       "            Transaction ID Date of Purchase Time of Purchase  Purchase Type  \\\n",
       "0  da8a6ba8-b3dc-4677-b176       2023-12-08         12:41:11              0   \n",
       "1  b0cdd1b0-f214-4197-be53       2023-12-16         11:23:01              1   \n",
       "2  f3ba7a96-f713-40d9-9629       2023-12-19         19:51:27              0   \n",
       "3  b2471f11-4fe7-4c87-8ab4       2023-12-20         23:00:36              1   \n",
       "4  2be00b45-0762-485e-a7a3       2023-12-27         18:22:56              0   \n",
       "5  4e1dcd88-3d95-44ef-99fa       2023-12-30         07:56:06              0   \n",
       "6  1c74479d-85a4-4ba1-a607       2023-12-31         00:02:01              1   \n",
       "7  febf8dab-f808-46fa-bf2b       2023-12-31         01:35:18              1   \n",
       "8  01df916f-4291-41ec-a37d       2023-12-31         01:43:09              1   \n",
       "9  a8cedba7-1923-459d-b046       2023-12-31         03:05:52              0   \n",
       "\n",
       "   Payment Method  Railcard  Ticket Class  Ticket Type     Price  \\\n",
       "0               0         0             1            0  3.784190   \n",
       "1               1         0             1            0  3.178054   \n",
       "2               1         2             1            0  1.386294   \n",
       "3               1         2             1            0  2.639057   \n",
       "4               0         2             1            0  4.343805   \n",
       "5               1         2             1            0  3.583519   \n",
       "6               1         0             1            0  1.098612   \n",
       "7               0         1             1            0  1.098612   \n",
       "8               1         2             1            0  3.637586   \n",
       "9               1         2             1            0  2.639057   \n",
       "\n",
       "   Departure Station  Arrival Destination Date of Journey Departure Time  \\\n",
       "0                  6                   12      2024-01-01       11:00:00   \n",
       "1                  5                   31      2024-01-01       09:45:00   \n",
       "2                  3                   18      2024-01-02       18:15:00   \n",
       "3                  6                   23      2024-01-01       21:30:00   \n",
       "4                  3                   13      2024-01-01       16:45:00   \n",
       "5                  5                   31      2024-01-01       06:15:00   \n",
       "6                  4                   21      2024-01-01       22:30:00   \n",
       "7                  3                   18      2024-01-01       00:00:00   \n",
       "8                  4                   31      2024-01-01       00:00:00   \n",
       "9                  6                   23      2024-01-01       01:30:00   \n",
       "\n",
       "  Arrival Time Actual Arrival Time  Journey Status  Refund Request  \n",
       "0     13:30:00            13:30:00               1               0  \n",
       "1     11:35:00            11:40:00               0               0  \n",
       "2     18:45:00            18:45:00               1               0  \n",
       "3     22:30:00            22:30:00               1               0  \n",
       "4     19:00:00            19:00:00               1               0  \n",
       "5     08:05:00            08:05:00               1               0  \n",
       "6     23:40:00            23:40:00               1               0  \n",
       "7     00:30:00            00:30:00               1               0  \n",
       "8     01:50:00            02:07:00               0               0  \n",
       "9     02:30:00            02:30:00               1               0  "
      ]
     },
     "execution_count": 17,
     "metadata": {},
     "output_type": "execute_result"
    }
   ],
   "source": [
    "from sklearn.preprocessing import LabelEncoder\n",
    "\n",
    "# List of categorical columns to encode\n",
    "categorical_columns = ['Purchase Type', 'Payment Method', 'Railcard', 'Ticket Class', \n",
    "                       'Ticket Type', 'Departure Station', 'Arrival Destination', \n",
    "                       'Refund Request', 'Journey Status']\n",
    "\n",
    "# Apply Label Encoding\n",
    "label_encoders = {}\n",
    "for col in categorical_columns:\n",
    "    le = LabelEncoder()\n",
    "    df_cleaned[col] = le.fit_transform(df_cleaned[col])\n",
    "    label_encoders[col] = le\n",
    "\n",
    "# Display encoded dataset sample\n",
    "df_cleaned.head(10)"
   ]
  },
  {
   "cell_type": "markdown",
   "id": "13f94b4a-c22d-407b-84f6-ffb281ca0aa7",
   "metadata": {},
   "source": [
    "### FEATURE SELECTION"
   ]
  },
  {
   "cell_type": "code",
   "execution_count": 18,
   "id": "b32df80e-025d-452f-b1ca-f4e0a0b22b01",
   "metadata": {},
   "outputs": [
    {
     "data": {
      "text/html": [
       "<div>\n",
       "<style scoped>\n",
       "    .dataframe tbody tr th:only-of-type {\n",
       "        vertical-align: middle;\n",
       "    }\n",
       "\n",
       "    .dataframe tbody tr th {\n",
       "        vertical-align: top;\n",
       "    }\n",
       "\n",
       "    .dataframe thead th {\n",
       "        text-align: right;\n",
       "    }\n",
       "</style>\n",
       "<table border=\"1\" class=\"dataframe\">\n",
       "  <thead>\n",
       "    <tr style=\"text-align: right;\">\n",
       "      <th></th>\n",
       "      <th>Purchase Type</th>\n",
       "      <th>Payment Method</th>\n",
       "      <th>Railcard</th>\n",
       "      <th>Ticket Class</th>\n",
       "      <th>Ticket Type</th>\n",
       "      <th>Price</th>\n",
       "      <th>Departure Station</th>\n",
       "      <th>Arrival Destination</th>\n",
       "      <th>Refund Request</th>\n",
       "    </tr>\n",
       "  </thead>\n",
       "  <tbody>\n",
       "    <tr>\n",
       "      <th>0</th>\n",
       "      <td>0</td>\n",
       "      <td>0</td>\n",
       "      <td>0</td>\n",
       "      <td>1</td>\n",
       "      <td>0</td>\n",
       "      <td>3.784190</td>\n",
       "      <td>6</td>\n",
       "      <td>12</td>\n",
       "      <td>0</td>\n",
       "    </tr>\n",
       "    <tr>\n",
       "      <th>1</th>\n",
       "      <td>1</td>\n",
       "      <td>1</td>\n",
       "      <td>0</td>\n",
       "      <td>1</td>\n",
       "      <td>0</td>\n",
       "      <td>3.178054</td>\n",
       "      <td>5</td>\n",
       "      <td>31</td>\n",
       "      <td>0</td>\n",
       "    </tr>\n",
       "    <tr>\n",
       "      <th>2</th>\n",
       "      <td>0</td>\n",
       "      <td>1</td>\n",
       "      <td>2</td>\n",
       "      <td>1</td>\n",
       "      <td>0</td>\n",
       "      <td>1.386294</td>\n",
       "      <td>3</td>\n",
       "      <td>18</td>\n",
       "      <td>0</td>\n",
       "    </tr>\n",
       "    <tr>\n",
       "      <th>3</th>\n",
       "      <td>1</td>\n",
       "      <td>1</td>\n",
       "      <td>2</td>\n",
       "      <td>1</td>\n",
       "      <td>0</td>\n",
       "      <td>2.639057</td>\n",
       "      <td>6</td>\n",
       "      <td>23</td>\n",
       "      <td>0</td>\n",
       "    </tr>\n",
       "    <tr>\n",
       "      <th>4</th>\n",
       "      <td>0</td>\n",
       "      <td>0</td>\n",
       "      <td>2</td>\n",
       "      <td>1</td>\n",
       "      <td>0</td>\n",
       "      <td>4.343805</td>\n",
       "      <td>3</td>\n",
       "      <td>13</td>\n",
       "      <td>0</td>\n",
       "    </tr>\n",
       "  </tbody>\n",
       "</table>\n",
       "</div>"
      ],
      "text/plain": [
       "   Purchase Type  Payment Method  Railcard  Ticket Class  Ticket Type  \\\n",
       "0              0               0         0             1            0   \n",
       "1              1               1         0             1            0   \n",
       "2              0               1         2             1            0   \n",
       "3              1               1         2             1            0   \n",
       "4              0               0         2             1            0   \n",
       "\n",
       "      Price  Departure Station  Arrival Destination  Refund Request  \n",
       "0  3.784190                  6                   12               0  \n",
       "1  3.178054                  5                   31               0  \n",
       "2  1.386294                  3                   18               0  \n",
       "3  2.639057                  6                   23               0  \n",
       "4  4.343805                  3                   13               0  "
      ]
     },
     "execution_count": 18,
     "metadata": {},
     "output_type": "execute_result"
    }
   ],
   "source": [
    "# Drop non-relevant columns (Transaction ID, Date & Time columns)\n",
    "df_selected = df_cleaned.drop(columns=[\n",
    "    'Transaction ID', 'Date of Purchase', 'Time of Purchase', \n",
    "    'Date of Journey', 'Departure Time', 'Arrival Time', 'Actual Arrival Time'\n",
    "])\n",
    "\n",
    "# Define target variable (Journey Status) and features\n",
    "X = df_selected.drop(columns=['Journey Status'])\n",
    "y = df_selected['Journey Status']\n",
    "\n",
    "# Display final feature set\n",
    "X.head()"
   ]
  },
  {
   "cell_type": "markdown",
   "id": "6b943999-3f55-4881-a326-5ac1ebe868c4",
   "metadata": {},
   "source": [
    "### Splitting the Dataset"
   ]
  },
  {
   "cell_type": "code",
   "execution_count": 19,
   "id": "28c26e71-9814-4ccc-bd75-8779b218b87e",
   "metadata": {},
   "outputs": [
    {
     "data": {
      "text/plain": [
       "((24078, 9), (6020, 9), (24078,), (6020,))"
      ]
     },
     "execution_count": 19,
     "metadata": {},
     "output_type": "execute_result"
    }
   ],
   "source": [
    "from sklearn.model_selection import train_test_split\n",
    "from sklearn.preprocessing import StandardScaler\n",
    "\n",
    "# Step 11: Split the dataset into training and testing sets (80% train, 20% test)\n",
    "X_train, X_test, y_train, y_test = train_test_split(X, y, test_size=0.2, random_state=42, stratify=y)\n",
    "\n",
    "# Step 12: Feature Scaling\n",
    "scaler = StandardScaler()\n",
    "X_train_scaled = scaler.fit_transform(X_train)\n",
    "X_test_scaled = scaler.transform(X_test)\n",
    "\n",
    "# Display the shape of training and testing sets\n",
    "X_train_scaled.shape, X_test_scaled.shape, y_train.shape, y_test.shape\n"
   ]
  },
  {
   "cell_type": "markdown",
   "id": "13b5c52f-99e1-4072-9ad8-eb34a82ade76",
   "metadata": {},
   "source": [
    "### We can understand that there is class imbalance,So i used smote for resolve it."
   ]
  },
  {
   "cell_type": "code",
   "execution_count": 20,
   "id": "65472d3f-3cc5-4d53-8156-b3394bcb644f",
   "metadata": {},
   "outputs": [
    {
     "name": "stdout",
     "output_type": "stream",
     "text": [
      "Before SMOTE:\n",
      "Training set class distribution: [ 2794 21284]\n",
      "Testing set class distribution: [ 698 5322]\n",
      "\n",
      "After SMOTE:\n",
      "Resampled training set class distribution: [21284 21284]\n",
      "Testing set class distribution remains the same: [ 698 5322]\n",
      "\n",
      "Shapes:\n",
      "X_train_resampled: (42568, 9)\n",
      "y_train_resampled: (42568,)\n",
      "X_test_scaled: (6020, 9)\n",
      "y_test: (6020,)\n"
     ]
    }
   ],
   "source": [
    "from imblearn.over_sampling import SMOTE\n",
    "import numpy as np\n",
    "\n",
    "# Display class distribution before SMOTE\n",
    "print(\"Before SMOTE:\")\n",
    "print(\"Training set class distribution:\", np.bincount(y_train))\n",
    "print(\"Testing set class distribution:\", np.bincount(y_test))\n",
    "\n",
    "# Apply SMOTE only to the training data\n",
    "smote = SMOTE(random_state=42)\n",
    "X_train_resampled, y_train_resampled = smote.fit_resample(X_train_scaled, y_train)\n",
    "\n",
    "# Display class distribution after SMOTE\n",
    "print(\"\\nAfter SMOTE:\")\n",
    "print(\"Resampled training set class distribution:\", np.bincount(y_train_resampled))\n",
    "print(\"Testing set class distribution remains the same:\", np.bincount(y_test))\n",
    "\n",
    "# Display shapes\n",
    "print(\"\\nShapes:\")\n",
    "print(\"X_train_resampled:\", X_train_resampled.shape)\n",
    "print(\"y_train_resampled:\", y_train_resampled.shape)\n",
    "print(\"X_test_scaled:\", X_test_scaled.shape)\n",
    "print(\"y_test:\", y_test.shape)"
   ]
  },
  {
   "cell_type": "markdown",
   "id": "85438259-db0a-400b-a01c-7b18eacf4d1a",
   "metadata": {},
   "source": [
    "### Model Training and Evaluation"
   ]
  },
  {
   "cell_type": "code",
   "execution_count": 21,
   "id": "5284157a-2577-4070-9d62-dace07e6cb5d",
   "metadata": {},
   "outputs": [
    {
     "name": "stdout",
     "output_type": "stream",
     "text": [
      "--- Logistic Regression ---\n",
      "Accuracy: 0.7713\n",
      "Training Accuracy: 0.6846\n",
      "\n",
      "Classification Report:\n",
      "              precision    recall  f1-score   support\n",
      "\n",
      "           0       0.28      0.60      0.38       698\n",
      "           1       0.94      0.79      0.86      5322\n",
      "\n",
      "    accuracy                           0.77      6020\n",
      "   macro avg       0.61      0.70      0.62      6020\n",
      "weighted avg       0.86      0.77      0.80      6020\n",
      "\n",
      "\n",
      "Confusion Matrix:\n",
      "[[ 417  281]\n",
      " [1096 4226]]\n",
      "--------------------------\n",
      "\n",
      "--- Random Forest ---\n",
      "Accuracy: 0.8299\n",
      "Training Accuracy: 0.8146\n",
      "\n",
      "Classification Report:\n",
      "              precision    recall  f1-score   support\n",
      "\n",
      "           0       0.37      0.70      0.49       698\n",
      "           1       0.96      0.85      0.90      5322\n",
      "\n",
      "    accuracy                           0.83      6020\n",
      "   macro avg       0.66      0.77      0.69      6020\n",
      "weighted avg       0.89      0.83      0.85      6020\n",
      "\n",
      "\n",
      "Confusion Matrix:\n",
      "[[ 486  212]\n",
      " [ 812 4510]]\n",
      "--------------------\n",
      "\n",
      "--- Gradient Boosting ---\n",
      "Accuracy: 0.8728\n",
      "Training Accuracy: 0.7683\n",
      "\n",
      "Classification Report:\n",
      "              precision    recall  f1-score   support\n",
      "\n",
      "           0       0.46      0.61      0.52       698\n",
      "           1       0.95      0.91      0.93      5322\n",
      "\n",
      "    accuracy                           0.87      6020\n",
      "   macro avg       0.70      0.76      0.73      6020\n",
      "weighted avg       0.89      0.87      0.88      6020\n",
      "\n",
      "\n",
      "Confusion Matrix:\n",
      "[[ 423  275]\n",
      " [ 491 4831]]\n",
      "------------------------\n",
      "\n",
      "--- Support Vector Machine ---\n",
      "Accuracy: 0.8561\n",
      "Training Accuracy: 0.7657\n",
      "\n",
      "Classification Report:\n",
      "              precision    recall  f1-score   support\n",
      "\n",
      "           0       0.42      0.65      0.51       698\n",
      "           1       0.95      0.88      0.92      5322\n",
      "\n",
      "    accuracy                           0.86      6020\n",
      "   macro avg       0.69      0.77      0.71      6020\n",
      "weighted avg       0.89      0.86      0.87      6020\n",
      "\n",
      "\n",
      "Confusion Matrix:\n",
      "[[ 455  243]\n",
      " [ 623 4699]]\n",
      "-----------------------------\n",
      "\n",
      "--- K-Nearest Neighbors ---\n",
      "Accuracy: 0.9136\n",
      "Training Accuracy: 0.7628\n",
      "\n",
      "Classification Report:\n",
      "              precision    recall  f1-score   support\n",
      "\n",
      "           0       0.68      0.48      0.57       698\n",
      "           1       0.93      0.97      0.95      5322\n",
      "\n",
      "    accuracy                           0.91      6020\n",
      "   macro avg       0.81      0.73      0.76      6020\n",
      "weighted avg       0.91      0.91      0.91      6020\n",
      "\n",
      "\n",
      "Confusion Matrix:\n",
      "[[ 338  360]\n",
      " [ 160 5162]]\n",
      "--------------------------\n",
      "\n"
     ]
    }
   ],
   "source": [
    "# Import classification models\n",
    "from sklearn.linear_model import LogisticRegression\n",
    "from sklearn.ensemble import RandomForestClassifier, GradientBoostingClassifier\n",
    "from sklearn.svm import SVC\n",
    "from sklearn.neighbors import KNeighborsClassifier\n",
    "\n",
    "# Import metrics\n",
    "from sklearn.metrics import accuracy_score, classification_report, confusion_matrix\n",
    "import pandas as pd\n",
    "import seaborn as sns\n",
    "import matplotlib.pyplot as plt\n",
    "\n",
    "# Initialize models\n",
    "models = {\n",
    "    \"Logistic Regression\": LogisticRegression(),\n",
    "    \"Random Forest\": RandomForestClassifier(),\n",
    "    \"Gradient Boosting\": GradientBoostingClassifier(),\n",
    "    \"Support Vector Machine\": SVC(),\n",
    "    \"K-Nearest Neighbors\": KNeighborsClassifier()\n",
    "}\n",
    "\n",
    "# Dictionary to store results\n",
    "results = {}\n",
    "\n",
    "# Train and evaluate each model using the resampled data\n",
    "for name, model in models.items():\n",
    "    model.fit(X_train_resampled, y_train_resampled)  # Changed to use resampled data\n",
    "    y_pred = model.predict(X_test_scaled)\n",
    "    acc = accuracy_score(y_test, y_pred)\n",
    "    report = classification_report(y_test, y_pred)\n",
    "    cm = confusion_matrix(y_test, y_pred)\n",
    "\n",
    "    # Calculate training accuracy using resampled data\n",
    "    y_train_pred = model.predict(X_train_resampled)\n",
    "    train_acc = accuracy_score(y_train_resampled, y_train_pred)\n",
    "\n",
    "    results[name] = {\n",
    "        \"Accuracy\": acc,\n",
    "        \"Training Accuracy\": train_acc,\n",
    "        \"Classification Report\": report,\n",
    "        \"Confusion Matrix\": cm\n",
    "    }\n",
    "\n",
    "# Print the results in a more readable format\n",
    "for name, result in results.items():\n",
    "    print(f\"--- {name} ---\")\n",
    "    print(f\"Accuracy: {result['Accuracy']:.4f}\")\n",
    "    print(f\"Training Accuracy: {result['Training Accuracy']:.4f}\")\n",
    "    print(\"\\nClassification Report:\")\n",
    "    print(result['Classification Report'])\n",
    "    print(\"\\nConfusion Matrix:\")\n",
    "    print(result['Confusion Matrix'])\n",
    "    print(\"-\" * (len(name) + 7))\n",
    "    print()"
   ]
  },
  {
   "cell_type": "markdown",
   "id": "670d8804-fec1-41c8-9fc1-3e8ca3248d1b",
   "metadata": {},
   "source": [
    "#####  All models show a good performence.I took Random Forest as my top model,because random forest strikes a good balance between \n",
    "#####  metrices.Recall value over minority class (0) is hightest among all other models,which is the goal of this project.\n",
    "\n",
    "##### Next i will perform hyperparameter tuning and look for further improvement then i will create a pipeline.\n"
   ]
  },
  {
   "cell_type": "markdown",
   "id": "d6f2fa4d-a14d-4516-b18c-3e52ee672f96",
   "metadata": {},
   "source": [
    "### Hyper parameter tuning"
   ]
  },
  {
   "cell_type": "code",
   "execution_count": 22,
   "id": "337e0b98-e1a1-4568-9c6c-5163317a6ca5",
   "metadata": {},
   "outputs": [
    {
     "name": "stdout",
     "output_type": "stream",
     "text": [
      "Fitting 3 folds for each of 20 candidates, totalling 60 fits\n",
      "\n",
      "--- RandomizedSearchCV with n_iter=20 ---\n",
      "Best Hyperparameters: {'bootstrap': False, 'class_weight': 'balanced_subsample', 'max_depth': 43, 'max_features': 'sqrt', 'min_samples_leaf': 3, 'min_samples_split': 6, 'n_estimators': 230}\n",
      "Accuracy on Test Set: 0.8397\n",
      "\n",
      "Classification Report on Test Set:\n",
      "              precision    recall  f1-score   support\n",
      "\n",
      "           0       0.39      0.69      0.50       698\n",
      "           1       0.95      0.86      0.90      5322\n",
      "\n",
      "    accuracy                           0.84      6020\n",
      "   macro avg       0.67      0.77      0.70      6020\n",
      "weighted avg       0.89      0.84      0.86      6020\n",
      "\n",
      "\n",
      "Confusion Matrix on Test Set:\n",
      "[[ 480  218]\n",
      " [ 747 4575]]\n",
      "--------------------------------------------\n"
     ]
    }
   ],
   "source": [
    "from sklearn.model_selection import RandomizedSearchCV\n",
    "from sklearn.ensemble import RandomForestClassifier\n",
    "from scipy.stats import randint, uniform\n",
    "\n",
    "# Define the parameter distributions to sample from\n",
    "param_distributions = {\n",
    "    'n_estimators': randint(100, 500),       # Number of trees (range between 100 and 500)\n",
    "    'max_depth': [None] + list(randint(10, 50).rvs(10)), # Max depth (None or a random integer between 10 and 50)\n",
    "    'min_samples_split': randint(2, 20),    # Min samples to split (range between 2 and 20)\n",
    "    'min_samples_leaf': randint(1, 10),     # Min samples in a leaf (range between 1 and 10)\n",
    "    'max_features': ['sqrt', 'log2', None, 0.5, 0.7], # Number or proportion of features to consider\n",
    "    'bootstrap': [True, False],\n",
    "    'class_weight': [None, 'balanced', 'balanced_subsample'] # Weights for imbalanced classes\n",
    "}\n",
    "\n",
    "# Initialize the Random Forest classifier\n",
    "rf = RandomForestClassifier(random_state=42)\n",
    "\n",
    "# Initialize RandomizedSearchCV with n_iter=20\n",
    "random_search_iter_20 = RandomizedSearchCV(estimator=rf,\n",
    "                                            param_distributions=param_distributions,\n",
    "                                            n_iter=20,          # Increased n_iter to 20\n",
    "                                            cv=3,               # Number of cross-validation folds\n",
    "                                            scoring='accuracy', # Metric to optimize\n",
    "                                            n_jobs=-1,          # Use all available CPU cores\n",
    "                                            verbose=2,\n",
    "                                            random_state=42)   # For reproducibility\n",
    "\n",
    "# Fit RandomizedSearchCV to the resampled training data\n",
    "random_search_iter_20.fit(X_train_resampled, y_train_resampled)\n",
    "\n",
    "# Print the best hyperparameters found\n",
    "print(\"\\n--- RandomizedSearchCV with n_iter=20 ---\")\n",
    "print(\"Best Hyperparameters:\", random_search_iter_20.best_params_)\n",
    "\n",
    "# Get the best model\n",
    "best_rf_random_iter_20 = random_search_iter_20.best_estimator_\n",
    "\n",
    "# Evaluate the best model on the test set\n",
    "y_pred_random_best_iter_20 = best_rf_random_iter_20.predict(X_test_scaled)\n",
    "accuracy_random_best_iter_20 = accuracy_score(y_test, y_pred_random_best_iter_20)\n",
    "report_random_best_iter_20 = classification_report(y_test, y_pred_random_best_iter_20)\n",
    "cm_random_best_iter_20 = confusion_matrix(y_test, y_pred_random_best_iter_20)\n",
    "\n",
    "print(f\"Accuracy on Test Set: {accuracy_random_best_iter_20:.4f}\")\n",
    "print(\"\\nClassification Report on Test Set:\")\n",
    "print(report_random_best_iter_20)\n",
    "print(\"\\nConfusion Matrix on Test Set:\")\n",
    "print(cm_random_best_iter_20)\n",
    "print(\"-\" * 44)"
   ]
  },
  {
   "cell_type": "markdown",
   "id": "0e8a5f5e-0201-4977-a8e7-911a574ef921",
   "metadata": {},
   "source": [
    "By doing hyperparameter tuning there is a slight improvement on the model"
   ]
  },
  {
   "cell_type": "markdown",
   "id": "6db00cb3-5b5d-4d46-9ba6-f63f775cead8",
   "metadata": {},
   "source": [
    "### Pipeline Building"
   ]
  },
  {
   "cell_type": "code",
   "execution_count": 23,
   "id": "5f7b343d-5c01-425a-b0be-da29ed260fdb",
   "metadata": {},
   "outputs": [
    {
     "name": "stdout",
     "output_type": "stream",
     "text": [
      "Optimized Random Forest Pipeline Accuracy: 0.8397\n",
      "\n",
      "Classification Report:\n",
      "               precision    recall  f1-score   support\n",
      "\n",
      "           0       0.39      0.69      0.50       698\n",
      "           1       0.95      0.86      0.90      5322\n",
      "\n",
      "    accuracy                           0.84      6020\n",
      "   macro avg       0.67      0.77      0.70      6020\n",
      "weighted avg       0.89      0.84      0.86      6020\n",
      "\n",
      "Confusion Matrix:\n",
      " [[ 480  218]\n",
      " [ 747 4575]]\n"
     ]
    }
   ],
   "source": [
    "from imblearn.pipeline import Pipeline as ImbPipeline\n",
    "from imblearn.over_sampling import SMOTE\n",
    "from sklearn.preprocessing import StandardScaler\n",
    "from sklearn.ensemble import RandomForestClassifier\n",
    "from sklearn.metrics import accuracy_score, classification_report, confusion_matrix\n",
    "\n",
    "# Create the pipeline with optimized Random Forest parameters\n",
    "rf_pipeline = ImbPipeline([\n",
    "    ('scaler', StandardScaler()),\n",
    "    ('smote', SMOTE(random_state=42)),\n",
    "    ('model', RandomForestClassifier(\n",
    "        bootstrap=False,\n",
    "        class_weight='balanced_subsample',\n",
    "        max_depth=49,\n",
    "        max_features='sqrt',\n",
    "        min_samples_leaf=3,\n",
    "        min_samples_split=6,\n",
    "        n_estimators=230,\n",
    "        random_state=42\n",
    "    ))\n",
    "])\n",
    "\n",
    "# Fit the pipeline\n",
    "rf_pipeline.fit(X_train, y_train)\n",
    "\n",
    "# Make predictions\n",
    "y_pred_pipeline = rf_pipeline.predict(X_test)\n",
    "\n",
    "# Evaluate model\n",
    "print(f\"Optimized Random Forest Pipeline Accuracy: {accuracy_score(y_test, y_pred_pipeline):.4f}\\n\")\n",
    "print(\"Classification Report:\\n\", classification_report(y_test, y_pred_pipeline))\n",
    "print(\"Confusion Matrix:\\n\", confusion_matrix(y_test, y_pred_pipeline))"
   ]
  },
  {
   "cell_type": "code",
   "execution_count": 24,
   "id": "6e6a46bc-a3c1-4cd8-8e23-b304715c4ac5",
   "metadata": {},
   "outputs": [
    {
     "data": {
      "text/plain": [
       "['trained_pipeline.joblib']"
      ]
     },
     "execution_count": 24,
     "metadata": {},
     "output_type": "execute_result"
    }
   ],
   "source": [
    "from joblib import dump\n",
    "\n",
    "# Save the entire pipeline to a file\n",
    "dump(rf_pipeline, 'trained_pipeline.joblib') \n",
    "\n",
    "# Later, you can load it back with:\n",
    "# from joblib import load\n",
    "# rf_pipeline = load('trained_pipeline.joblib')"
   ]
  },
  {
   "cell_type": "markdown",
   "id": "af7578c2-9a88-4cb4-a803-c1bd7c458fd1",
   "metadata": {},
   "source": [
    "### Testing Unseen Data"
   ]
  },
  {
   "cell_type": "code",
   "execution_count": 25,
   "id": "cf025c67-9504-453c-bce3-7c335214f7e2",
   "metadata": {},
   "outputs": [
    {
     "data": {
      "text/html": [
       "<div>\n",
       "<style scoped>\n",
       "    .dataframe tbody tr th:only-of-type {\n",
       "        vertical-align: middle;\n",
       "    }\n",
       "\n",
       "    .dataframe tbody tr th {\n",
       "        vertical-align: top;\n",
       "    }\n",
       "\n",
       "    .dataframe thead th {\n",
       "        text-align: right;\n",
       "    }\n",
       "</style>\n",
       "<table border=\"1\" class=\"dataframe\">\n",
       "  <thead>\n",
       "    <tr style=\"text-align: right;\">\n",
       "      <th></th>\n",
       "      <th>Transaction ID</th>\n",
       "      <th>Date of Purchase</th>\n",
       "      <th>Time of Purchase</th>\n",
       "      <th>Purchase Type</th>\n",
       "      <th>Payment Method</th>\n",
       "      <th>Railcard</th>\n",
       "      <th>Ticket Class</th>\n",
       "      <th>Ticket Type</th>\n",
       "      <th>Price</th>\n",
       "      <th>Departure Station</th>\n",
       "      <th>Arrival Destination</th>\n",
       "      <th>Date of Journey</th>\n",
       "      <th>Departure Time</th>\n",
       "      <th>Arrival Time</th>\n",
       "      <th>Actual Arrival Time</th>\n",
       "      <th>Journey Status</th>\n",
       "      <th>Refund Request</th>\n",
       "    </tr>\n",
       "  </thead>\n",
       "  <tbody>\n",
       "    <tr>\n",
       "      <th>20169</th>\n",
       "      <td>5cba8154-329e-4670-805b</td>\n",
       "      <td>2024-03-17</td>\n",
       "      <td>20:26:33</td>\n",
       "      <td>Station</td>\n",
       "      <td>Debit Card</td>\n",
       "      <td>Senior</td>\n",
       "      <td>Standard</td>\n",
       "      <td>Advance</td>\n",
       "      <td>48</td>\n",
       "      <td>London Euston</td>\n",
       "      <td>Manchester Piccadilly</td>\n",
       "      <td>2024-03-18</td>\n",
       "      <td>18:45:00</td>\n",
       "      <td>20:35:00</td>\n",
       "      <td>20:35:00</td>\n",
       "      <td>On Time</td>\n",
       "      <td>No</td>\n",
       "    </tr>\n",
       "    <tr>\n",
       "      <th>3100</th>\n",
       "      <td>cc742a5e-bce6-440e-96f1</td>\n",
       "      <td>2024-01-13</td>\n",
       "      <td>05:11:37</td>\n",
       "      <td>Online</td>\n",
       "      <td>Credit Card</td>\n",
       "      <td>No Railcard</td>\n",
       "      <td>Standard</td>\n",
       "      <td>Off-Peak</td>\n",
       "      <td>10</td>\n",
       "      <td>London Euston</td>\n",
       "      <td>Birmingham New Street</td>\n",
       "      <td>2024-01-13</td>\n",
       "      <td>06:30:00</td>\n",
       "      <td>07:50:00</td>\n",
       "      <td>07:50:00</td>\n",
       "      <td>On Time</td>\n",
       "      <td>No</td>\n",
       "    </tr>\n",
       "    <tr>\n",
       "      <th>2932</th>\n",
       "      <td>2c1cd8e6-031d-498a-9acd</td>\n",
       "      <td>2024-01-12</td>\n",
       "      <td>13:33:25</td>\n",
       "      <td>Online</td>\n",
       "      <td>Contactless</td>\n",
       "      <td>No Railcard</td>\n",
       "      <td>Standard</td>\n",
       "      <td>Advance</td>\n",
       "      <td>3</td>\n",
       "      <td>Liverpool Lime Street</td>\n",
       "      <td>Manchester Piccadilly</td>\n",
       "      <td>2024-01-13</td>\n",
       "      <td>12:00:00</td>\n",
       "      <td>12:30:00</td>\n",
       "      <td>12:30:00</td>\n",
       "      <td>On Time</td>\n",
       "      <td>No</td>\n",
       "    </tr>\n",
       "    <tr>\n",
       "      <th>30141</th>\n",
       "      <td>f0af694a-c145-4cc0-8e61</td>\n",
       "      <td>2024-04-24</td>\n",
       "      <td>20:24:26</td>\n",
       "      <td>Station</td>\n",
       "      <td>Credit Card</td>\n",
       "      <td>No Railcard</td>\n",
       "      <td>Standard</td>\n",
       "      <td>Advance</td>\n",
       "      <td>5</td>\n",
       "      <td>Birmingham New Street</td>\n",
       "      <td>Stafford</td>\n",
       "      <td>2024-04-25</td>\n",
       "      <td>17:45:00</td>\n",
       "      <td>18:15:00</td>\n",
       "      <td>18:15:00</td>\n",
       "      <td>On Time</td>\n",
       "      <td>No</td>\n",
       "    </tr>\n",
       "    <tr>\n",
       "      <th>10951</th>\n",
       "      <td>940e0228-3b63-4afd-b9dc</td>\n",
       "      <td>2024-02-06</td>\n",
       "      <td>21:06:22</td>\n",
       "      <td>Station</td>\n",
       "      <td>Contactless</td>\n",
       "      <td>No Railcard</td>\n",
       "      <td>First Class</td>\n",
       "      <td>Advance</td>\n",
       "      <td>57</td>\n",
       "      <td>London Kings Cross</td>\n",
       "      <td>York</td>\n",
       "      <td>2024-02-14</td>\n",
       "      <td>19:30:00</td>\n",
       "      <td>21:20:00</td>\n",
       "      <td>21:20:00</td>\n",
       "      <td>On Time</td>\n",
       "      <td>No</td>\n",
       "    </tr>\n",
       "    <tr>\n",
       "      <th>...</th>\n",
       "      <td>...</td>\n",
       "      <td>...</td>\n",
       "      <td>...</td>\n",
       "      <td>...</td>\n",
       "      <td>...</td>\n",
       "      <td>...</td>\n",
       "      <td>...</td>\n",
       "      <td>...</td>\n",
       "      <td>...</td>\n",
       "      <td>...</td>\n",
       "      <td>...</td>\n",
       "      <td>...</td>\n",
       "      <td>...</td>\n",
       "      <td>...</td>\n",
       "      <td>...</td>\n",
       "      <td>...</td>\n",
       "      <td>...</td>\n",
       "    </tr>\n",
       "    <tr>\n",
       "      <th>22543</th>\n",
       "      <td>784867c6-4ed5-4b21-8a90</td>\n",
       "      <td>2024-03-26</td>\n",
       "      <td>12:20:16</td>\n",
       "      <td>Online</td>\n",
       "      <td>Credit Card</td>\n",
       "      <td>Adult</td>\n",
       "      <td>Standard</td>\n",
       "      <td>Off-Peak</td>\n",
       "      <td>4</td>\n",
       "      <td>Manchester Piccadilly</td>\n",
       "      <td>Sheffield</td>\n",
       "      <td>2024-03-26</td>\n",
       "      <td>13:45:00</td>\n",
       "      <td>14:30:00</td>\n",
       "      <td>14:30:00</td>\n",
       "      <td>On Time</td>\n",
       "      <td>No</td>\n",
       "    </tr>\n",
       "    <tr>\n",
       "      <th>21005</th>\n",
       "      <td>aaffe9f2-7b53-48bc-9ae4</td>\n",
       "      <td>2024-03-20</td>\n",
       "      <td>21:36:09</td>\n",
       "      <td>Station</td>\n",
       "      <td>Credit Card</td>\n",
       "      <td>No Railcard</td>\n",
       "      <td>First Class</td>\n",
       "      <td>Advance</td>\n",
       "      <td>27</td>\n",
       "      <td>London Paddington</td>\n",
       "      <td>Reading</td>\n",
       "      <td>2024-03-21</td>\n",
       "      <td>20:00:00</td>\n",
       "      <td>21:00:00</td>\n",
       "      <td>21:00:00</td>\n",
       "      <td>On Time</td>\n",
       "      <td>No</td>\n",
       "    </tr>\n",
       "    <tr>\n",
       "      <th>20408</th>\n",
       "      <td>d94d7470-a0a2-4472-b044</td>\n",
       "      <td>2024-03-18</td>\n",
       "      <td>17:25:17</td>\n",
       "      <td>Online</td>\n",
       "      <td>Debit Card</td>\n",
       "      <td>Senior</td>\n",
       "      <td>Standard</td>\n",
       "      <td>Anytime</td>\n",
       "      <td>5</td>\n",
       "      <td>Reading</td>\n",
       "      <td>Didcot</td>\n",
       "      <td>2024-03-18</td>\n",
       "      <td>18:45:00</td>\n",
       "      <td>19:00:00</td>\n",
       "      <td>19:00:00</td>\n",
       "      <td>On Time</td>\n",
       "      <td>No</td>\n",
       "    </tr>\n",
       "    <tr>\n",
       "      <th>30800</th>\n",
       "      <td>4007d372-4794-41b9-b13f</td>\n",
       "      <td>2024-04-27</td>\n",
       "      <td>08:14:16</td>\n",
       "      <td>Online</td>\n",
       "      <td>Credit Card</td>\n",
       "      <td>No Railcard</td>\n",
       "      <td>Standard</td>\n",
       "      <td>Advance</td>\n",
       "      <td>35</td>\n",
       "      <td>London Kings Cross</td>\n",
       "      <td>York</td>\n",
       "      <td>2024-04-28</td>\n",
       "      <td>07:30:00</td>\n",
       "      <td>09:20:00</td>\n",
       "      <td>09:20:00</td>\n",
       "      <td>Delayed</td>\n",
       "      <td>No</td>\n",
       "    </tr>\n",
       "    <tr>\n",
       "      <th>4968</th>\n",
       "      <td>a1d23953-11b5-43bc-a3a5</td>\n",
       "      <td>2024-01-19</td>\n",
       "      <td>17:08:38</td>\n",
       "      <td>Station</td>\n",
       "      <td>Credit Card</td>\n",
       "      <td>No Railcard</td>\n",
       "      <td>Standard</td>\n",
       "      <td>Advance</td>\n",
       "      <td>3</td>\n",
       "      <td>Manchester Piccadilly</td>\n",
       "      <td>Liverpool Lime Street</td>\n",
       "      <td>2024-02-01</td>\n",
       "      <td>15:30:00</td>\n",
       "      <td>16:00:00</td>\n",
       "      <td>16:00:00</td>\n",
       "      <td>Delayed</td>\n",
       "      <td>No</td>\n",
       "    </tr>\n",
       "  </tbody>\n",
       "</table>\n",
       "<p>2000 rows × 17 columns</p>\n",
       "</div>"
      ],
      "text/plain": [
       "                Transaction ID Date of Purchase Time of Purchase  \\\n",
       "20169  5cba8154-329e-4670-805b       2024-03-17         20:26:33   \n",
       "3100   cc742a5e-bce6-440e-96f1       2024-01-13         05:11:37   \n",
       "2932   2c1cd8e6-031d-498a-9acd       2024-01-12         13:33:25   \n",
       "30141  f0af694a-c145-4cc0-8e61       2024-04-24         20:24:26   \n",
       "10951  940e0228-3b63-4afd-b9dc       2024-02-06         21:06:22   \n",
       "...                        ...              ...              ...   \n",
       "22543  784867c6-4ed5-4b21-8a90       2024-03-26         12:20:16   \n",
       "21005  aaffe9f2-7b53-48bc-9ae4       2024-03-20         21:36:09   \n",
       "20408  d94d7470-a0a2-4472-b044       2024-03-18         17:25:17   \n",
       "30800  4007d372-4794-41b9-b13f       2024-04-27         08:14:16   \n",
       "4968   a1d23953-11b5-43bc-a3a5       2024-01-19         17:08:38   \n",
       "\n",
       "      Purchase Type Payment Method     Railcard Ticket Class Ticket Type  \\\n",
       "20169       Station     Debit Card       Senior     Standard     Advance   \n",
       "3100         Online    Credit Card  No Railcard     Standard    Off-Peak   \n",
       "2932         Online    Contactless  No Railcard     Standard     Advance   \n",
       "30141       Station    Credit Card  No Railcard     Standard     Advance   \n",
       "10951       Station    Contactless  No Railcard  First Class     Advance   \n",
       "...             ...            ...          ...          ...         ...   \n",
       "22543        Online    Credit Card        Adult     Standard    Off-Peak   \n",
       "21005       Station    Credit Card  No Railcard  First Class     Advance   \n",
       "20408        Online     Debit Card       Senior     Standard     Anytime   \n",
       "30800        Online    Credit Card  No Railcard     Standard     Advance   \n",
       "4968        Station    Credit Card  No Railcard     Standard     Advance   \n",
       "\n",
       "       Price      Departure Station    Arrival Destination Date of Journey  \\\n",
       "20169     48          London Euston  Manchester Piccadilly      2024-03-18   \n",
       "3100      10          London Euston  Birmingham New Street      2024-01-13   \n",
       "2932       3  Liverpool Lime Street  Manchester Piccadilly      2024-01-13   \n",
       "30141      5  Birmingham New Street               Stafford      2024-04-25   \n",
       "10951     57     London Kings Cross                   York      2024-02-14   \n",
       "...      ...                    ...                    ...             ...   \n",
       "22543      4  Manchester Piccadilly              Sheffield      2024-03-26   \n",
       "21005     27      London Paddington                Reading      2024-03-21   \n",
       "20408      5                Reading                 Didcot      2024-03-18   \n",
       "30800     35     London Kings Cross                   York      2024-04-28   \n",
       "4968       3  Manchester Piccadilly  Liverpool Lime Street      2024-02-01   \n",
       "\n",
       "      Departure Time Arrival Time Actual Arrival Time Journey Status  \\\n",
       "20169       18:45:00     20:35:00            20:35:00        On Time   \n",
       "3100        06:30:00     07:50:00            07:50:00        On Time   \n",
       "2932        12:00:00     12:30:00            12:30:00        On Time   \n",
       "30141       17:45:00     18:15:00            18:15:00        On Time   \n",
       "10951       19:30:00     21:20:00            21:20:00        On Time   \n",
       "...              ...          ...                 ...            ...   \n",
       "22543       13:45:00     14:30:00            14:30:00        On Time   \n",
       "21005       20:00:00     21:00:00            21:00:00        On Time   \n",
       "20408       18:45:00     19:00:00            19:00:00        On Time   \n",
       "30800       07:30:00     09:20:00            09:20:00        Delayed   \n",
       "4968        15:30:00     16:00:00            16:00:00        Delayed   \n",
       "\n",
       "      Refund Request  \n",
       "20169             No  \n",
       "3100              No  \n",
       "2932              No  \n",
       "30141             No  \n",
       "10951             No  \n",
       "...              ...  \n",
       "22543             No  \n",
       "21005             No  \n",
       "20408             No  \n",
       "30800             No  \n",
       "4968              No  \n",
       "\n",
       "[2000 rows x 17 columns]"
      ]
     },
     "execution_count": 25,
     "metadata": {},
     "output_type": "execute_result"
    }
   ],
   "source": [
    "# Loading unseen data\n",
    "unseen_data = df.sample(n=2000, random_state=42)\n",
    "unseen_data"
   ]
  },
  {
   "cell_type": "code",
   "execution_count": 26,
   "id": "f3ce25ad-8905-4421-835a-ed59178a8303",
   "metadata": {},
   "outputs": [
    {
     "name": "stdout",
     "output_type": "stream",
     "text": [
      "\t\n",
      "The shape of the dataset before removing the duplicates is (2000, 17)\n"
     ]
    }
   ],
   "source": [
    "print(\"\\t\")\n",
    "print(f\"The shape of the dataset before removing the duplicates is {unseen_data.shape}\")"
   ]
  },
  {
   "cell_type": "code",
   "execution_count": 27,
   "id": "17f81097-7261-4669-be9e-e37fae4f300b",
   "metadata": {},
   "outputs": [],
   "source": [
    "duplicate_count = unseen_data.duplicated().sum()"
   ]
  },
  {
   "cell_type": "code",
   "execution_count": 28,
   "id": "1b8acecc-1fd3-4bea-9b6f-ade0ffd8c7c2",
   "metadata": {},
   "outputs": [
    {
     "data": {
      "text/plain": [
       "0"
      ]
     },
     "execution_count": 28,
     "metadata": {},
     "output_type": "execute_result"
    }
   ],
   "source": [
    "duplicate_count "
   ]
  },
  {
   "cell_type": "code",
   "execution_count": 29,
   "id": "59a793d4-c0de-42d5-bb01-e332a0af3a98",
   "metadata": {},
   "outputs": [
    {
     "data": {
      "text/plain": [
       "(2000, 17)"
      ]
     },
     "execution_count": 29,
     "metadata": {},
     "output_type": "execute_result"
    }
   ],
   "source": [
    "unseen_data.shape"
   ]
  },
  {
   "cell_type": "code",
   "execution_count": 30,
   "id": "f94ba16c-4456-40b9-98d0-5731ba809ab0",
   "metadata": {},
   "outputs": [],
   "source": [
    "missing_values = unseen_data.isnull().sum()"
   ]
  },
  {
   "cell_type": "code",
   "execution_count": 31,
   "id": "b67ae77b-244e-44e1-bf04-eddb4e5ebc5f",
   "metadata": {},
   "outputs": [
    {
     "data": {
      "text/plain": [
       "Transaction ID         0\n",
       "Date of Purchase       0\n",
       "Time of Purchase       0\n",
       "Purchase Type          0\n",
       "Payment Method         0\n",
       "Railcard               0\n",
       "Ticket Class           0\n",
       "Ticket Type            0\n",
       "Price                  0\n",
       "Departure Station      0\n",
       "Arrival Destination    0\n",
       "Date of Journey        0\n",
       "Departure Time         0\n",
       "Arrival Time           0\n",
       "Actual Arrival Time    0\n",
       "Journey Status         0\n",
       "Refund Request         0\n",
       "dtype: int64"
      ]
     },
     "execution_count": 31,
     "metadata": {},
     "output_type": "execute_result"
    }
   ],
   "source": [
    "missing_values"
   ]
  },
  {
   "cell_type": "markdown",
   "id": "07f71212-7a19-425d-b03f-4906e1c10707",
   "metadata": {},
   "source": [
    "#### Encoding"
   ]
  },
  {
   "cell_type": "code",
   "execution_count": 32,
   "id": "da63d3ff-2786-4c61-af22-4e0771896512",
   "metadata": {},
   "outputs": [],
   "source": [
    "# Apply the previously fitted LabelEncoders to unseen_data\n",
    "for col in categorical_columns:\n",
    "    if col in unseen_data.columns:\n",
    "        le = label_encoders[col]\n",
    "        unseen_data[col] = le.transform(unseen_data[col])"
   ]
  },
  {
   "cell_type": "code",
   "execution_count": 33,
   "id": "38b26c2c-b0d5-4f8d-909b-020a00b18db6",
   "metadata": {},
   "outputs": [
    {
     "name": "stdout",
     "output_type": "stream",
     "text": [
      "Index(['Transaction ID', 'Date of Purchase', 'Time of Purchase',\n",
      "       'Purchase Type', 'Payment Method', 'Railcard', 'Ticket Class',\n",
      "       'Ticket Type', 'Price', 'Departure Station', 'Arrival Destination',\n",
      "       'Date of Journey', 'Departure Time', 'Arrival Time',\n",
      "       'Actual Arrival Time', 'Journey Status', 'Refund Request'],\n",
      "      dtype='object')\n"
     ]
    }
   ],
   "source": [
    "print(unseen_data.columns)"
   ]
  },
  {
   "cell_type": "code",
   "execution_count": 34,
   "id": "7560a2f1-8f37-4e4b-b19b-efd7175718be",
   "metadata": {},
   "outputs": [
    {
     "name": "stdout",
     "output_type": "stream",
     "text": [
      "                Transaction ID Date of Purchase Time of Purchase  \\\n",
      "20169  5cba8154-329e-4670-805b       2024-03-17         20:26:33   \n",
      "3100   cc742a5e-bce6-440e-96f1       2024-01-13         05:11:37   \n",
      "2932   2c1cd8e6-031d-498a-9acd       2024-01-12         13:33:25   \n",
      "30141  f0af694a-c145-4cc0-8e61       2024-04-24         20:24:26   \n",
      "10951  940e0228-3b63-4afd-b9dc       2024-02-06         21:06:22   \n",
      "...                        ...              ...              ...   \n",
      "18114  871ce0d1-28e8-4067-af6b       2024-03-10         06:31:41   \n",
      "29507  44bf9056-1078-4018-bcb2       2024-04-22         13:32:38   \n",
      "22027  6aab225a-90e9-4b34-8558       2024-03-24         17:17:50   \n",
      "30707  6fa811e9-06cc-46f2-a402       2024-04-27         00:59:43   \n",
      "29308  aeadb8ac-314c-4b39-b2d7       2024-04-21         18:18:59   \n",
      "\n",
      "       Purchase Type  Payment Method  Railcard  Ticket Class  Ticket Type  \\\n",
      "20169              1               2         3             1            0   \n",
      "3100               0               1         2             1            2   \n",
      "2932               0               0         2             1            0   \n",
      "30141              1               1         2             1            0   \n",
      "10951              1               0         2             0            0   \n",
      "...              ...             ...       ...           ...          ...   \n",
      "18114              1               1         2             1            2   \n",
      "29507              0               1         3             1            0   \n",
      "22027              0               1         1             1            0   \n",
      "30707              0               1         2             1            2   \n",
      "29308              0               1         3             1            2   \n",
      "\n",
      "       Price  Departure Station  Arrival Destination Date of Journey  \\\n",
      "20169     48                  4                   18      2024-03-18   \n",
      "3100      10                  4                    0      2024-01-13   \n",
      "2932       3                  3                   18      2024-01-13   \n",
      "30141      5                  0                   25      2024-04-25   \n",
      "10951     57                  5                   31      2024-02-14   \n",
      "...      ...                ...                  ...             ...   \n",
      "18114    113                  3                   13      2024-03-10   \n",
      "29507     23                  5                   31      2024-04-23   \n",
      "22027      4                  4                    0      2024-03-25   \n",
      "30707     10                  4                    0      2024-04-27   \n",
      "29308     23                  7                   11      2024-04-21   \n",
      "\n",
      "      Departure Time Arrival Time Actual Arrival Time  Journey Status  \\\n",
      "20169       18:45:00     20:35:00            20:35:00               1   \n",
      "3100        06:30:00     07:50:00            07:50:00               1   \n",
      "2932        12:00:00     12:30:00            12:30:00               1   \n",
      "30141       17:45:00     18:15:00            18:15:00               1   \n",
      "10951       19:30:00     21:20:00            21:20:00               1   \n",
      "...              ...          ...                 ...             ...   \n",
      "18114       08:00:00     10:15:00            10:15:00               1   \n",
      "29507       09:30:00     11:20:00            11:20:00               1   \n",
      "22027       15:45:00     17:05:00            17:05:00               0   \n",
      "30707       02:15:00     03:35:00            03:35:00               0   \n",
      "29308       18:45:00     19:45:00            19:45:00               1   \n",
      "\n",
      "       Refund Request  \n",
      "20169               0  \n",
      "3100                0  \n",
      "2932                0  \n",
      "30141               0  \n",
      "10951               0  \n",
      "...               ...  \n",
      "18114               0  \n",
      "29507               0  \n",
      "22027               0  \n",
      "30707               0  \n",
      "29308               0  \n",
      "\n",
      "[100 rows x 17 columns]\n"
     ]
    }
   ],
   "source": [
    "print(unseen_data.head(100))"
   ]
  },
  {
   "cell_type": "markdown",
   "id": "bd2b6884-0030-4a72-ae86-3edffdc7b368",
   "metadata": {},
   "source": [
    "#### Feature Selection"
   ]
  },
  {
   "cell_type": "code",
   "execution_count": 35,
   "id": "12ec8345-8a37-493c-b01c-fb5bff60c36a",
   "metadata": {},
   "outputs": [
    {
     "data": {
      "text/plain": [
       "20169    1\n",
       "3100     1\n",
       "2932     1\n",
       "30141    1\n",
       "10951    1\n",
       "Name: Journey Status, dtype: int32"
      ]
     },
     "execution_count": 35,
     "metadata": {},
     "output_type": "execute_result"
    }
   ],
   "source": [
    "# Apply same preprocessing \n",
    "unseen_data_selected = unseen_data.drop(columns=[\n",
    "    'Transaction ID', 'Date of Purchase', 'Time of Purchase', \n",
    "    'Date of Journey', 'Departure Time', 'Arrival Time', 'Actual Arrival Time'\n",
    "])\n",
    "\n",
    "\n",
    "X_unseen = unseen_data_selected.drop(columns=['Journey Status'])\n",
    "y_unseen = unseen_data_selected['Journey Status']\n",
    "\n",
    "\n",
    "\n",
    "y_unseen.head()"
   ]
  },
  {
   "cell_type": "code",
   "execution_count": 36,
   "id": "3c2c0663-fee2-45d4-8713-6c5389e058f2",
   "metadata": {},
   "outputs": [
    {
     "data": {
      "text/html": [
       "<div>\n",
       "<style scoped>\n",
       "    .dataframe tbody tr th:only-of-type {\n",
       "        vertical-align: middle;\n",
       "    }\n",
       "\n",
       "    .dataframe tbody tr th {\n",
       "        vertical-align: top;\n",
       "    }\n",
       "\n",
       "    .dataframe thead th {\n",
       "        text-align: right;\n",
       "    }\n",
       "</style>\n",
       "<table border=\"1\" class=\"dataframe\">\n",
       "  <thead>\n",
       "    <tr style=\"text-align: right;\">\n",
       "      <th></th>\n",
       "      <th>Purchase Type</th>\n",
       "      <th>Payment Method</th>\n",
       "      <th>Railcard</th>\n",
       "      <th>Ticket Class</th>\n",
       "      <th>Ticket Type</th>\n",
       "      <th>Price</th>\n",
       "      <th>Departure Station</th>\n",
       "      <th>Arrival Destination</th>\n",
       "      <th>Refund Request</th>\n",
       "    </tr>\n",
       "  </thead>\n",
       "  <tbody>\n",
       "    <tr>\n",
       "      <th>20169</th>\n",
       "      <td>1</td>\n",
       "      <td>2</td>\n",
       "      <td>3</td>\n",
       "      <td>1</td>\n",
       "      <td>0</td>\n",
       "      <td>48</td>\n",
       "      <td>4</td>\n",
       "      <td>18</td>\n",
       "      <td>0</td>\n",
       "    </tr>\n",
       "    <tr>\n",
       "      <th>3100</th>\n",
       "      <td>0</td>\n",
       "      <td>1</td>\n",
       "      <td>2</td>\n",
       "      <td>1</td>\n",
       "      <td>2</td>\n",
       "      <td>10</td>\n",
       "      <td>4</td>\n",
       "      <td>0</td>\n",
       "      <td>0</td>\n",
       "    </tr>\n",
       "    <tr>\n",
       "      <th>2932</th>\n",
       "      <td>0</td>\n",
       "      <td>0</td>\n",
       "      <td>2</td>\n",
       "      <td>1</td>\n",
       "      <td>0</td>\n",
       "      <td>3</td>\n",
       "      <td>3</td>\n",
       "      <td>18</td>\n",
       "      <td>0</td>\n",
       "    </tr>\n",
       "    <tr>\n",
       "      <th>30141</th>\n",
       "      <td>1</td>\n",
       "      <td>1</td>\n",
       "      <td>2</td>\n",
       "      <td>1</td>\n",
       "      <td>0</td>\n",
       "      <td>5</td>\n",
       "      <td>0</td>\n",
       "      <td>25</td>\n",
       "      <td>0</td>\n",
       "    </tr>\n",
       "    <tr>\n",
       "      <th>10951</th>\n",
       "      <td>1</td>\n",
       "      <td>0</td>\n",
       "      <td>2</td>\n",
       "      <td>0</td>\n",
       "      <td>0</td>\n",
       "      <td>57</td>\n",
       "      <td>5</td>\n",
       "      <td>31</td>\n",
       "      <td>0</td>\n",
       "    </tr>\n",
       "  </tbody>\n",
       "</table>\n",
       "</div>"
      ],
      "text/plain": [
       "       Purchase Type  Payment Method  Railcard  Ticket Class  Ticket Type  \\\n",
       "20169              1               2         3             1            0   \n",
       "3100               0               1         2             1            2   \n",
       "2932               0               0         2             1            0   \n",
       "30141              1               1         2             1            0   \n",
       "10951              1               0         2             0            0   \n",
       "\n",
       "       Price  Departure Station  Arrival Destination  Refund Request  \n",
       "20169     48                  4                   18               0  \n",
       "3100      10                  4                    0               0  \n",
       "2932       3                  3                   18               0  \n",
       "30141      5                  0                   25               0  \n",
       "10951     57                  5                   31               0  "
      ]
     },
     "execution_count": 36,
     "metadata": {},
     "output_type": "execute_result"
    }
   ],
   "source": [
    "X_unseen.head()"
   ]
  },
  {
   "cell_type": "code",
   "execution_count": 37,
   "id": "4ac3047a-65bf-4e8c-839a-aee22afbe9e0",
   "metadata": {},
   "outputs": [
    {
     "name": "stdout",
     "output_type": "stream",
     "text": [
      "Training Set Shape: (1600, 9)\n",
      "Testing Set Shape: (400, 9)\n"
     ]
    }
   ],
   "source": [
    "# train-test-split\n",
    "\n",
    "X_unseen_train, X_unseen_test, y_unseen_train, y_unseen_test = train_test_split(\n",
    "    X_unseen, y_unseen, test_size=0.2, random_state=42, stratify=y_unseen\n",
    ")\n",
    "\n",
    "\n",
    "# Display the Shape of Split Data\n",
    "print(\"Training Set Shape:\", X_unseen_train.shape)\n",
    "print(\"Testing Set Shape:\", X_unseen_test.shape)"
   ]
  },
  {
   "cell_type": "code",
   "execution_count": 38,
   "id": "3a1ee185-02af-4a74-aa9c-51aeebd19e6b",
   "metadata": {},
   "outputs": [
    {
     "name": "stdout",
     "output_type": "stream",
     "text": [
      "(1600,)\n",
      "(400,)\n"
     ]
    }
   ],
   "source": [
    "print(y_unseen_train.shape)\n",
    "print(y_unseen_test.shape)"
   ]
  },
  {
   "cell_type": "code",
   "execution_count": 39,
   "id": "a97bc727-a6dc-4a7d-9741-01084ca3605c",
   "metadata": {},
   "outputs": [
    {
     "name": "stdout",
     "output_type": "stream",
     "text": [
      "Training set class distribution (percentage):\n",
      "Journey Status\n",
      "1    88.625\n",
      "0    11.375\n",
      "Name: proportion, dtype: float64\n",
      "\n",
      "Test set class distribution (percentage):\n",
      "Journey Status\n",
      "1    88.75\n",
      "0    11.25\n",
      "Name: proportion, dtype: float64\n"
     ]
    }
   ],
   "source": [
    "print(\"Training set class distribution (percentage):\")\n",
    "print(y_unseen_train.value_counts(normalize=True) * 100)\n",
    "\n",
    "print(\"\\nTest set class distribution (percentage):\")\n",
    "print(y_unseen_test.value_counts(normalize=True) * 100)"
   ]
  },
  {
   "cell_type": "code",
   "execution_count": 40,
   "id": "ecb178c3-7f78-42d9-ad7a-d71f56c1cc2f",
   "metadata": {},
   "outputs": [
    {
     "name": "stdout",
     "output_type": "stream",
     "text": [
      "Class distribution before SMOTE: Counter({1: 1418, 0: 182})\n",
      "Class distribution after SMOTE: Counter({1: 1418, 0: 1418})\n"
     ]
    }
   ],
   "source": [
    "from imblearn.over_sampling import SMOTE\n",
    "from collections import Counter\n",
    "\n",
    "# Apply SMOTE to the training data\n",
    "smote = SMOTE(random_state=42)\n",
    "X_unseen_resampled, y_unseen_resampled = smote.fit_resample(X_unseen_train, y_unseen_train)\n",
    "\n",
    "# Check class distribution before and after SMOTE\n",
    "print(\"Class distribution before SMOTE:\", Counter(y_unseen_train))\n",
    "print(\"Class distribution after SMOTE:\", Counter(y_unseen_resampled))"
   ]
  },
  {
   "cell_type": "code",
   "execution_count": 41,
   "id": "faba30b8-b5b7-493a-9a98-7ee70d1a0b20",
   "metadata": {},
   "outputs": [
    {
     "name": "stdout",
     "output_type": "stream",
     "text": [
      "rf Pipeline Model Accuracy: 93.50%\n"
     ]
    }
   ],
   "source": [
    "rf_pipeline.fit(X_unseen_train, y_unseen_train)\n",
    "y_pred_unseen_rf_pipeline = rf_pipeline.predict(X_unseen_test)\n",
    "\n",
    "print(f\"rf Pipeline Model Accuracy: {accuracy_score(y_unseen_test, y_pred_unseen_rf_pipeline) * 100:.2f}%\")"
   ]
  },
  {
   "cell_type": "code",
   "execution_count": 42,
   "id": "771a622c-d1f4-437e-a93c-e40fb2830055",
   "metadata": {},
   "outputs": [],
   "source": [
    "# Load the best model from a file\n",
    "import joblib\n",
    "model_filename = 'trained_pipeline.joblib'\n",
    "loaded_model = joblib.load(model_filename)"
   ]
  },
  {
   "cell_type": "code",
   "execution_count": 43,
   "id": "00454aa6-4541-4be8-8ed9-f6ea5687dc01",
   "metadata": {},
   "outputs": [],
   "source": [
    "# Make predictions on unseen data\n",
    "predictions = loaded_model.predict(X_unseen)"
   ]
  },
  {
   "cell_type": "code",
   "execution_count": 47,
   "id": "b6938a41-ab0a-4c71-9568-6c2aba427e6d",
   "metadata": {},
   "outputs": [
    {
     "name": "stdout",
     "output_type": "stream",
     "text": [
      "Predictions on Unseen Data: [1 1 1 1 1 1 1 1 1 1 1 1 1 1 1 1 1 0 1 1 1 1 0 1 1 0 1 1 1 1 1 1 0 1 1 1 1\n",
      " 1 1 1 0 1 0 1 1 1 1 1 1 1]\n"
     ]
    }
   ],
   "source": [
    "# Output predictions\n",
    "print(\"Predictions on Unseen Data:\", predictions[:50])"
   ]
  },
  {
   "cell_type": "markdown",
   "id": "283e137b-2161-4f86-b625-33fc21074218",
   "metadata": {},
   "source": [
    "### For testing the Random forest model pipeline,i randomely selected some instances from dataset as unseen data and perform all data preprocessing and other steps thats done for pipeline building.The pipeline shoowed a accuracy of (rf Pipeline Model Accuracy: 93.50%) which is very good and competent.The pipeline can used for predictions on similar datasets "
   ]
  },
  {
   "cell_type": "markdown",
   "id": "a451cdf1-8267-4190-8cfd-d598cc2e151a",
   "metadata": {},
   "source": [
    "##  LIMITATIONS"
   ]
  },
  {
   "cell_type": "markdown",
   "id": "3605d367-5b3e-4d30-a82e-be3b86f0c40d",
   "metadata": {},
   "source": [
    "\n",
    " * Class Imbalance: The initial dataset exhibited a significant class imbalance, with far fewer instances of class 0 compared to class 1. While SMOTE was used to address this during training, the inherent imbalance might still affect model performance, particularly on the minority class.\n",
    " * Performance on Minority Class: Despite using SMOTE and hyperparameter tuning, the precision and F1-score for the minority class (0) consistently remained lower than for the majority class (1) across different models. This indicates that the model still struggles more with correctly identifying and classifying the minority class.\n",
    " * Limited Exploration of Other Models: While several models were initially evaluated, the focus quickly narrowed to Random Forest. Other potentially well-suited algorithms for imbalanced datasets (e.g., other ensemble methods like BalancedRandomForestClassifier or AdaBoost, or cost-sensitive learning approaches) were not explored in depth."
   ]
  },
  {
   "cell_type": "markdown",
   "id": "638cced4-b038-432b-b90b-3ebca7dd2c1a",
   "metadata": {},
   "source": [
    "### FUTURE IMPROVEMENTS"
   ]
  },
  {
   "cell_type": "markdown",
   "id": "492f3be6-7236-4e38-a94d-c7498c0d96dd",
   "metadata": {},
   "source": [
    "\n",
    " * Advanced Resampling Techniques: Explore more sophisticated resampling methods beyond basic SMOTE. This could include:\n",
    "   * ADASYN (Adaptive Synthetic Sampling): Generates more synthetic samples for minority class instances that are harder to classify.\n",
    "   * Borderline-SMOTE: Focuses on generating synthetic samples for minority class instances near the decision boundary.\n",
    "   * Combining Oversampling and Undersampling: Techniques like SMOTEENN or SMOTETomek can combine oversampling the minority class with undersampling the majority class to potentially clean the decision boundary.\n",
    " * More Extensive Hyperparameter Tuning: Increase the n_iter in RandomizedSearchCV to explore a wider range of hyperparameter combinations. Refine the parameter distributions based on the results obtained so far. Consider using other optimization techniques like Bayesian optimization.\n",
    "\n",
    "By addressing these limitations and exploring these future improvements, you can potentially build a more robust, accurate, and insightful classification model for your project, especially concerning the challenges posed by the class imbalance."
   ]
  },
  {
   "cell_type": "code",
   "execution_count": null,
   "id": "f523aa3b-f0db-4cb4-bbd2-a4ebb40beaa6",
   "metadata": {},
   "outputs": [],
   "source": []
  }
 ],
 "metadata": {
  "kernelspec": {
   "display_name": "Python 3 (ipykernel)",
   "language": "python",
   "name": "python3"
  },
  "language_info": {
   "codemirror_mode": {
    "name": "ipython",
    "version": 3
   },
   "file_extension": ".py",
   "mimetype": "text/x-python",
   "name": "python",
   "nbconvert_exporter": "python",
   "pygments_lexer": "ipython3",
   "version": "3.12.7"
  }
 },
 "nbformat": 4,
 "nbformat_minor": 5
}
